{
  "cells": [
    {
      "cell_type": "code",
      "execution_count": null,
      "id": "3fe56c6e-dd90-404e-a806-d6c4e2ce26e3",
      "metadata": {
        "tags": [],
        "id": "3fe56c6e-dd90-404e-a806-d6c4e2ce26e3",
        "outputId": "0ccd2426-c8c6-4726-d6e3-72e0e604bbed"
      },
      "outputs": [
        {
          "name": "stdout",
          "output_type": "stream",
          "text": [
            "Collecting PyYAML\n",
            "  Using cached PyYAML-6.0.2-cp310-cp310-manylinux_2_17_x86_64.manylinux2014_x86_64.whl.metadata (2.1 kB)\n",
            "Collecting attrs\n",
            "  Using cached attrs-24.2.0-py3-none-any.whl.metadata (11 kB)\n",
            "Collecting soupsieve\n",
            "  Using cached soupsieve-2.6-py3-none-any.whl.metadata (4.6 kB)\n",
            "Using cached PyYAML-6.0.2-cp310-cp310-manylinux_2_17_x86_64.manylinux2014_x86_64.whl (751 kB)\n",
            "Using cached attrs-24.2.0-py3-none-any.whl (63 kB)\n",
            "Using cached soupsieve-2.6-py3-none-any.whl (36 kB)\n",
            "Installing collected packages: soupsieve, PyYAML, attrs\n",
            "  Attempting uninstall: soupsieve\n",
            "    Found existing installation: soupsieve 2.6\n",
            "    Uninstalling soupsieve-2.6:\n",
            "      Successfully uninstalled soupsieve-2.6\n",
            "  Attempting uninstall: PyYAML\n",
            "    Found existing installation: PyYAML 6.0.2\n",
            "    Uninstalling PyYAML-6.0.2:\n",
            "      Successfully uninstalled PyYAML-6.0.2\n",
            "  Attempting uninstall: attrs\n",
            "    Found existing installation: attrs 24.2.0\n",
            "    Uninstalling attrs-24.2.0:\n",
            "      Successfully uninstalled attrs-24.2.0\n",
            "\u001b[31mERROR: pip's dependency resolver does not currently take into account all the packages that are installed. This behaviour is the source of the following dependency conflicts.\n",
            "gcsfs 2024.6.0 requires fsspec==2024.6.0, but you have fsspec 2024.6.1 which is incompatible.\n",
            "kfp 2.5.0 requires urllib3<2.0.0, but you have urllib3 2.2.1 which is incompatible.\n",
            "ydata-profiling 4.8.3 requires numpy<2,>=1.16.0, but you have numpy 2.1.1 which is incompatible.\u001b[0m\u001b[31m\n",
            "\u001b[0mSuccessfully installed PyYAML-6.0.2 attrs-24.2.0 soupsieve-2.6\n"
          ]
        }
      ],
      "source": [
        "# # Reinstall the corrupted packages\n",
        "# !pip install PyYAML attrs soupsieve --force-reinstall\n",
        "!pip install PyGithub\n",
        "!pip  install sovai[full]\n",
        "!pip install papermill\n",
        "!pip install datawrapper"
      ]
    },
    {
      "cell_type": "code",
      "execution_count": null,
      "id": "3bbc6dfe-c6e3-47b2-9b0f-ae4e64a228fc",
      "metadata": {
        "tags": [],
        "id": "3bbc6dfe-c6e3-47b2-9b0f-ae4e64a228fc"
      },
      "outputs": [],
      "source": [
        "# import sovai as sov\n",
        "# sov.token_auth(token=\"22fd808d-0947-45f1-995a-82346b921f0f\")\n",
        "# sov.data(\"short/volume\", full_history=True)"
      ]
    },
    {
      "cell_type": "code",
      "execution_count": null,
      "id": "901eb60a-1b1f-4e78-a115-4f761e8e442c",
      "metadata": {
        "tags": [],
        "id": "901eb60a-1b1f-4e78-a115-4f761e8e442c",
        "outputId": "f1dbd7ab-63e1-4dde-e20c-1305d46e402e",
        "colab": {
          "referenced_widgets": [
            "156b5e0470cc408cbe87d5f94202c30d",
            "992f8db7ae8d4bfab0cebb6a73b16e89",
            "be1aaac61b634c7e8d848ddeb4040b63",
            "1ec5df1ea79341d6863292d32b42540f",
            "ccb6506b52154bb6937691518fd933db",
            "2d773ccb8a8a45afabbda871346e940b"
          ]
        }
      },
      "outputs": [
        {
          "name": "stdout",
          "output_type": "stream",
          "text": [
            "Requirement already satisfied: pip in /opt/conda/lib/python3.10/site-packages (24.3.1)\n",
            "Requirement already satisfied: setuptools in /opt/conda/lib/python3.10/site-packages (75.3.0)\n",
            "Collecting PyYAML\n",
            "  Using cached PyYAML-6.0.2-cp310-cp310-manylinux_2_17_x86_64.manylinux2014_x86_64.whl.metadata (2.1 kB)\n",
            "Using cached PyYAML-6.0.2-cp310-cp310-manylinux_2_17_x86_64.manylinux2014_x86_64.whl (751 kB)\n",
            "Installing collected packages: PyYAML\n",
            "Successfully installed PyYAML-6.0.2\n"
          ]
        },
        {
          "name": "stderr",
          "output_type": "stream",
          "text": [
            "\u001b[31mERROR: pip's dependency resolver does not currently take into account all the packages that are installed. This behaviour is the source of the following dependency conflicts.\n",
            "kfp 2.5.0 requires urllib3<2.0.0, but you have urllib3 2.2.1 which is incompatible.\n",
            "ydata-profiling 4.8.3 requires numpy<2,>=1.16.0, but you have numpy 2.0.2 which is incompatible.\u001b[0m\u001b[31m\n",
            "\u001b[0m"
          ]
        },
        {
          "name": "stdout",
          "output_type": "stream",
          "text": [
            "Requirement already satisfied: datawrapper in /opt/conda/lib/python3.10/site-packages (0.6.1)\n",
            "Requirement already satisfied: papermill in /opt/conda/lib/python3.10/site-packages (2.6.0)\n",
            "Requirement already satisfied: sovai[full] in /opt/conda/lib/python3.10/site-packages (0.2.33)\n",
            "Requirement already satisfied: boto3>=1.20 in /opt/conda/lib/python3.10/site-packages (from sovai[full]) (1.35.12)\n",
            "Requirement already satisfied: edgar-tool<2.0.0,>=1.3.3 in /opt/conda/lib/python3.10/site-packages (from sovai[full]) (1.3.3)\n",
            "Requirement already satisfied: joblib>=1.0 in /opt/conda/lib/python3.10/site-packages (from sovai[full]) (1.4.2)\n",
            "Requirement already satisfied: networkx<4.0,>=3.3 in /opt/conda/lib/python3.10/site-packages (from sovai[full]) (3.3)\n",
            "Requirement already satisfied: numpy>=1.20 in /opt/conda/lib/python3.10/site-packages (from sovai[full]) (2.0.2)\n",
            "Requirement already satisfied: pandas>=1.0 in /opt/conda/lib/python3.10/site-packages (from sovai[full]) (2.2.2)\n",
            "Requirement already satisfied: polars>=0.20.30 in /opt/conda/lib/python3.10/site-packages (from sovai[full]) (1.2.1)\n",
            "Requirement already satisfied: pyarrow>=5.0 in /opt/conda/lib/python3.10/site-packages (from sovai[full]) (17.0.0)\n",
            "Requirement already satisfied: python-dateutil>=2.8 in /opt/conda/lib/python3.10/site-packages (from sovai[full]) (2.9.0.post0)\n",
            "Requirement already satisfied: python-dotenv>=0.10 in /opt/conda/lib/python3.10/site-packages (from sovai[full]) (1.0.1)\n",
            "Requirement already satisfied: pyvis<0.4.0,>=0.3.2 in /opt/conda/lib/python3.10/site-packages (from sovai[full]) (0.3.2)\n",
            "Requirement already satisfied: rapidfuzz<4.0.0,>=3.9.7 in /opt/conda/lib/python3.10/site-packages (from sovai[full]) (3.9.7)\n",
            "Requirement already satisfied: requests>=2.20 in /opt/conda/lib/python3.10/site-packages (from sovai[full]) (2.32.3)\n",
            "Requirement already satisfied: seaborn<0.14.0,>=0.13.2 in /opt/conda/lib/python3.10/site-packages (from sovai[full]) (0.13.2)\n",
            "Requirement already satisfied: yachalk<0.2.0,>=0.1.6 in /opt/conda/lib/python3.10/site-packages (from sovai[full]) (0.1.6)\n",
            "Requirement already satisfied: dash>=2.0 in /opt/conda/lib/python3.10/site-packages (from sovai[full]) (2.18.1)\n",
            "Requirement already satisfied: dash-bootstrap-components>=1.6.0 in /opt/conda/lib/python3.10/site-packages (from sovai[full]) (1.6.0)\n",
            "Requirement already satisfied: great-tables>=0.9 in /opt/conda/lib/python3.10/site-packages (from sovai[full]) (0.13.0)\n",
            "Requirement already satisfied: ipywidgets>=8.1.3 in /opt/conda/lib/python3.10/site-packages (from sovai[full]) (8.1.3)\n",
            "Requirement already satisfied: lightgbm>=4.5.0 in /opt/conda/lib/python3.10/site-packages (from sovai[full]) (4.5.0)\n",
            "Requirement already satisfied: matplotlib>=3.0 in /opt/conda/lib/python3.10/site-packages (from sovai[full]) (3.8.4)\n",
            "Requirement already satisfied: mfles>=0.2 in /opt/conda/lib/python3.10/site-packages (from sovai[full]) (0.2.4)\n",
            "Requirement already satisfied: numba>=0.50 in /opt/conda/lib/python3.10/site-packages (from sovai[full]) (0.60.0)\n",
            "Requirement already satisfied: openai>=1.0 in /opt/conda/lib/python3.10/site-packages (from sovai[full]) (1.53.0)\n",
            "Requirement already satisfied: pexpect>=4.9.0 in /opt/conda/lib/python3.10/site-packages (from sovai[full]) (4.9.0)\n",
            "Requirement already satisfied: plotly>=5.0 in /opt/conda/lib/python3.10/site-packages (from sovai[full]) (5.22.0)\n",
            "Requirement already satisfied: polars-talib==0.1.3 in /opt/conda/lib/python3.10/site-packages (from sovai[full]) (0.1.3)\n",
            "Requirement already satisfied: ruptures>=1.0 in /opt/conda/lib/python3.10/site-packages (from sovai[full]) (1.1.9)\n",
            "Requirement already satisfied: scikit-learn>=1.0 in /opt/conda/lib/python3.10/site-packages (from sovai[full]) (1.5.0)\n",
            "Requirement already satisfied: scipy>=1.0 in /opt/conda/lib/python3.10/site-packages (from sovai[full]) (1.13.1)\n",
            "Requirement already satisfied: shap>=0.40 in /opt/conda/lib/python3.10/site-packages (from sovai[full]) (0.46.0)\n",
            "Requirement already satisfied: skfolio>=0.3 in /opt/conda/lib/python3.10/site-packages (from sovai[full]) (0.4.3)\n",
            "Requirement already satisfied: statsforecast>=1.0 in /opt/conda/lib/python3.10/site-packages (from sovai[full]) (1.7.8)\n",
            "Requirement already satisfied: tensorly>=0.6 in /opt/conda/lib/python3.10/site-packages (from sovai[full]) (0.8.1)\n",
            "Requirement already satisfied: importlib-metadata in /opt/conda/lib/python3.10/site-packages (from datawrapper) (7.0.0)\n",
            "Requirement already satisfied: rich in /opt/conda/lib/python3.10/site-packages (from datawrapper) (13.8.0)\n",
            "Requirement already satisfied: ipython in /opt/conda/lib/python3.10/site-packages (from datawrapper) (8.21.0)\n",
            "Requirement already satisfied: click in /opt/conda/lib/python3.10/site-packages (from papermill) (8.1.7)\n",
            "Requirement already satisfied: pyyaml in /opt/conda/lib/python3.10/site-packages (from papermill) (6.0.2)\n",
            "Requirement already satisfied: nbformat>=5.2.0 in /opt/conda/lib/python3.10/site-packages (from papermill) (5.10.4)\n",
            "Requirement already satisfied: nbclient>=0.2.0 in /opt/conda/lib/python3.10/site-packages (from papermill) (0.10.0)\n",
            "Requirement already satisfied: tqdm>=4.32.2 in /opt/conda/lib/python3.10/site-packages (from papermill) (4.66.5)\n",
            "Requirement already satisfied: entrypoints in /opt/conda/lib/python3.10/site-packages (from papermill) (0.4)\n",
            "Requirement already satisfied: tenacity>=5.0.2 in /opt/conda/lib/python3.10/site-packages (from papermill) (8.3.0)\n",
            "Requirement already satisfied: ansicolors in /opt/conda/lib/python3.10/site-packages (from papermill) (1.1.8)\n",
            "Requirement already satisfied: botocore<1.36.0,>=1.35.12 in /opt/conda/lib/python3.10/site-packages (from boto3>=1.20->sovai[full]) (1.35.12)\n",
            "Requirement already satisfied: jmespath<2.0.0,>=0.7.1 in /opt/conda/lib/python3.10/site-packages (from boto3>=1.20->sovai[full]) (1.0.1)\n",
            "Requirement already satisfied: s3transfer<0.11.0,>=0.10.0 in /opt/conda/lib/python3.10/site-packages (from boto3>=1.20->sovai[full]) (0.10.2)\n",
            "Requirement already satisfied: Flask<3.1,>=1.0.4 in /opt/conda/lib/python3.10/site-packages (from dash>=2.0->sovai[full]) (3.0.3)\n",
            "Requirement already satisfied: Werkzeug<3.1 in /opt/conda/lib/python3.10/site-packages (from dash>=2.0->sovai[full]) (3.0.6)\n",
            "Requirement already satisfied: dash-html-components==2.0.0 in /opt/conda/lib/python3.10/site-packages (from dash>=2.0->sovai[full]) (2.0.0)\n",
            "Requirement already satisfied: dash-core-components==2.0.0 in /opt/conda/lib/python3.10/site-packages (from dash>=2.0->sovai[full]) (2.0.0)\n",
            "Requirement already satisfied: dash-table==5.0.0 in /opt/conda/lib/python3.10/site-packages (from dash>=2.0->sovai[full]) (5.0.0)\n",
            "Requirement already satisfied: typing-extensions>=4.1.1 in /opt/conda/lib/python3.10/site-packages (from dash>=2.0->sovai[full]) (4.12.2)\n",
            "Requirement already satisfied: retrying in /opt/conda/lib/python3.10/site-packages (from dash>=2.0->sovai[full]) (1.3.4)\n",
            "Requirement already satisfied: nest-asyncio in /opt/conda/lib/python3.10/site-packages (from dash>=2.0->sovai[full]) (1.6.0)\n",
            "Requirement already satisfied: setuptools in /opt/conda/lib/python3.10/site-packages (from dash>=2.0->sovai[full]) (75.3.0)\n",
            "Requirement already satisfied: fire<0.6,>=0.5 in /opt/conda/lib/python3.10/site-packages (from edgar-tool<2.0.0,>=1.3.3->sovai[full]) (0.5.0)\n",
            "Requirement already satisfied: jsonlines<5.0,>=4.0 in /opt/conda/lib/python3.10/site-packages (from edgar-tool<2.0.0,>=1.3.3->sovai[full]) (4.0.0)\n",
            "Requirement already satisfied: xmltodict<0.14,>=0.13 in /opt/conda/lib/python3.10/site-packages (from edgar-tool<2.0.0,>=1.3.3->sovai[full]) (0.13.0)\n",
            "Requirement already satisfied: commonmark>=0.9.1 in /opt/conda/lib/python3.10/site-packages (from great-tables>=0.9->sovai[full]) (0.9.1)\n",
            "Requirement already satisfied: htmltools>=0.4.1 in /opt/conda/lib/python3.10/site-packages (from great-tables>=0.9->sovai[full]) (0.6.0)\n",
            "Requirement already satisfied: Babel>=2.13.1 in /opt/conda/lib/python3.10/site-packages (from great-tables>=0.9->sovai[full]) (2.15.0)\n",
            "Requirement already satisfied: importlib-resources in /opt/conda/lib/python3.10/site-packages (from great-tables>=0.9->sovai[full]) (6.4.0)\n",
            "Requirement already satisfied: comm>=0.1.3 in /opt/conda/lib/python3.10/site-packages (from ipywidgets>=8.1.3->sovai[full]) (0.2.2)\n",
            "Requirement already satisfied: traitlets>=4.3.1 in /opt/conda/lib/python3.10/site-packages (from ipywidgets>=8.1.3->sovai[full]) (5.14.3)\n",
            "Requirement already satisfied: widgetsnbextension~=4.0.11 in /opt/conda/lib/python3.10/site-packages (from ipywidgets>=8.1.3->sovai[full]) (4.0.11)\n",
            "Requirement already satisfied: jupyterlab-widgets~=3.0.11 in /opt/conda/lib/python3.10/site-packages (from ipywidgets>=8.1.3->sovai[full]) (3.0.11)\n",
            "Requirement already satisfied: decorator in /opt/conda/lib/python3.10/site-packages (from ipython->datawrapper) (5.1.1)\n",
            "Requirement already satisfied: jedi>=0.16 in /opt/conda/lib/python3.10/site-packages (from ipython->datawrapper) (0.19.1)\n",
            "Requirement already satisfied: matplotlib-inline in /opt/conda/lib/python3.10/site-packages (from ipython->datawrapper) (0.1.7)\n",
            "Requirement already satisfied: prompt-toolkit<3.1.0,>=3.0.41 in /opt/conda/lib/python3.10/site-packages (from ipython->datawrapper) (3.0.47)\n",
            "Requirement already satisfied: pygments>=2.4.0 in /opt/conda/lib/python3.10/site-packages (from ipython->datawrapper) (2.18.0)\n",
            "Requirement already satisfied: stack-data in /opt/conda/lib/python3.10/site-packages (from ipython->datawrapper) (0.6.2)\n",
            "Requirement already satisfied: exceptiongroup in /opt/conda/lib/python3.10/site-packages (from ipython->datawrapper) (1.2.1)\n",
            "Requirement already satisfied: contourpy>=1.0.1 in /opt/conda/lib/python3.10/site-packages (from matplotlib>=3.0->sovai[full]) (1.2.1)\n",
            "Requirement already satisfied: cycler>=0.10 in /opt/conda/lib/python3.10/site-packages (from matplotlib>=3.0->sovai[full]) (0.12.1)\n",
            "Requirement already satisfied: fonttools>=4.22.0 in /opt/conda/lib/python3.10/site-packages (from matplotlib>=3.0->sovai[full]) (4.53.0)\n",
            "Requirement already satisfied: kiwisolver>=1.3.1 in /opt/conda/lib/python3.10/site-packages (from matplotlib>=3.0->sovai[full]) (1.4.5)\n",
            "Requirement already satisfied: packaging>=20.0 in /opt/conda/lib/python3.10/site-packages (from matplotlib>=3.0->sovai[full]) (24.1)\n",
            "Requirement already satisfied: pillow>=8 in /opt/conda/lib/python3.10/site-packages (from matplotlib>=3.0->sovai[full]) (10.4.0)\n",
            "Requirement already satisfied: pyparsing>=2.3.1 in /opt/conda/lib/python3.10/site-packages (from matplotlib>=3.0->sovai[full]) (3.1.2)\n",
            "Requirement already satisfied: jupyter-client>=6.1.12 in /opt/conda/lib/python3.10/site-packages (from nbclient>=0.2.0->papermill) (7.4.9)\n",
            "Requirement already satisfied: jupyter-core!=5.0.*,>=4.12 in /opt/conda/lib/python3.10/site-packages (from nbclient>=0.2.0->papermill) (5.7.2)\n",
            "Requirement already satisfied: fastjsonschema>=2.15 in /opt/conda/lib/python3.10/site-packages (from nbformat>=5.2.0->papermill) (2.19.1)\n",
            "Requirement already satisfied: jsonschema>=2.6 in /opt/conda/lib/python3.10/site-packages (from nbformat>=5.2.0->papermill) (4.22.0)\n",
            "Requirement already satisfied: llvmlite<0.44,>=0.43.0dev0 in /opt/conda/lib/python3.10/site-packages (from numba>=0.50->sovai[full]) (0.43.0)\n",
            "Requirement already satisfied: anyio<5,>=3.5.0 in /opt/conda/lib/python3.10/site-packages (from openai>=1.0->sovai[full]) (4.4.0)\n",
            "Requirement already satisfied: distro<2,>=1.7.0 in /opt/conda/lib/python3.10/site-packages (from openai>=1.0->sovai[full]) (1.9.0)\n",
            "Requirement already satisfied: httpx<1,>=0.23.0 in /opt/conda/lib/python3.10/site-packages (from openai>=1.0->sovai[full]) (0.27.2)\n",
            "Requirement already satisfied: jiter<1,>=0.4.0 in /opt/conda/lib/python3.10/site-packages (from openai>=1.0->sovai[full]) (0.6.1)\n",
            "Requirement already satisfied: pydantic<3,>=1.9.0 in /opt/conda/lib/python3.10/site-packages (from openai>=1.0->sovai[full]) (2.9.0)\n",
            "Requirement already satisfied: sniffio in /opt/conda/lib/python3.10/site-packages (from openai>=1.0->sovai[full]) (1.3.1)\n",
            "Requirement already satisfied: pytz>=2020.1 in /opt/conda/lib/python3.10/site-packages (from pandas>=1.0->sovai[full]) (2024.1)\n",
            "Requirement already satisfied: tzdata>=2022.7 in /opt/conda/lib/python3.10/site-packages (from pandas>=1.0->sovai[full]) (2024.1)\n",
            "Requirement already satisfied: ptyprocess>=0.5 in /opt/conda/lib/python3.10/site-packages (from pexpect>=4.9.0->sovai[full]) (0.7.0)\n",
            "Requirement already satisfied: six>=1.5 in /opt/conda/lib/python3.10/site-packages (from python-dateutil>=2.8->sovai[full]) (1.16.0)\n",
            "Requirement already satisfied: jinja2>=2.9.6 in /opt/conda/lib/python3.10/site-packages (from pyvis<0.4.0,>=0.3.2->sovai[full]) (3.1.4)\n",
            "Requirement already satisfied: jsonpickle>=1.4.1 in /opt/conda/lib/python3.10/site-packages (from pyvis<0.4.0,>=0.3.2->sovai[full]) (3.3.0)\n",
            "Requirement already satisfied: charset-normalizer<4,>=2 in /opt/conda/lib/python3.10/site-packages (from requests>=2.20->sovai[full]) (3.3.2)\n",
            "Requirement already satisfied: idna<4,>=2.5 in /opt/conda/lib/python3.10/site-packages (from requests>=2.20->sovai[full]) (3.8)\n",
            "Requirement already satisfied: urllib3<3,>=1.21.1 in /opt/conda/lib/python3.10/site-packages (from requests>=2.20->sovai[full]) (2.2.1)\n",
            "Requirement already satisfied: certifi>=2017.4.17 in /opt/conda/lib/python3.10/site-packages (from requests>=2.20->sovai[full]) (2024.8.30)\n",
            "Requirement already satisfied: threadpoolctl>=3.1.0 in /opt/conda/lib/python3.10/site-packages (from scikit-learn>=1.0->sovai[full]) (3.5.0)\n",
            "Requirement already satisfied: slicer==0.0.8 in /opt/conda/lib/python3.10/site-packages (from shap>=0.40->sovai[full]) (0.0.8)\n",
            "Requirement already satisfied: cloudpickle in /opt/conda/lib/python3.10/site-packages (from shap>=0.40->sovai[full]) (3.0.0)\n",
            "Requirement already satisfied: cvxpy>=1.4.1 in /opt/conda/lib/python3.10/site-packages (from skfolio>=0.3->sovai[full]) (1.5.3)\n",
            "Requirement already satisfied: coreforecast>=0.0.12 in /opt/conda/lib/python3.10/site-packages (from statsforecast>=1.0->sovai[full]) (0.0.13.1)\n",
            "Requirement already satisfied: statsmodels>=0.13.2 in /opt/conda/lib/python3.10/site-packages (from statsforecast>=1.0->sovai[full]) (0.14.2)\n",
            "Requirement already satisfied: fugue>=0.8.1 in /opt/conda/lib/python3.10/site-packages (from statsforecast>=1.0->sovai[full]) (0.9.1)\n",
            "Requirement already satisfied: utilsforecast>=0.1.4 in /opt/conda/lib/python3.10/site-packages (from statsforecast>=1.0->sovai[full]) (0.2.7)\n",
            "Requirement already satisfied: zipp>=0.5 in /opt/conda/lib/python3.10/site-packages (from importlib-metadata->datawrapper) (3.19.2)\n",
            "Requirement already satisfied: markdown-it-py>=2.2.0 in /opt/conda/lib/python3.10/site-packages (from rich->datawrapper) (3.0.0)\n",
            "Requirement already satisfied: osqp>=0.6.2 in /opt/conda/lib/python3.10/site-packages (from cvxpy>=1.4.1->skfolio>=0.3->sovai[full]) (0.6.7.post3)\n",
            "Requirement already satisfied: ecos>=2 in /opt/conda/lib/python3.10/site-packages (from cvxpy>=1.4.1->skfolio>=0.3->sovai[full]) (2.0.14)\n",
            "Requirement already satisfied: clarabel>=0.5.0 in /opt/conda/lib/python3.10/site-packages (from cvxpy>=1.4.1->skfolio>=0.3->sovai[full]) (0.9.0)\n",
            "Requirement already satisfied: scs>=3.2.4.post1 in /opt/conda/lib/python3.10/site-packages (from cvxpy>=1.4.1->skfolio>=0.3->sovai[full]) (3.2.7)\n",
            "Requirement already satisfied: termcolor in /opt/conda/lib/python3.10/site-packages (from fire<0.6,>=0.5->edgar-tool<2.0.0,>=1.3.3->sovai[full]) (2.5.0)\n",
            "Requirement already satisfied: itsdangerous>=2.1.2 in /opt/conda/lib/python3.10/site-packages (from Flask<3.1,>=1.0.4->dash>=2.0->sovai[full]) (2.2.0)\n",
            "Requirement already satisfied: blinker>=1.6.2 in /opt/conda/lib/python3.10/site-packages (from Flask<3.1,>=1.0.4->dash>=2.0->sovai[full]) (1.8.2)\n",
            "Requirement already satisfied: triad>=0.9.7 in /opt/conda/lib/python3.10/site-packages (from fugue>=0.8.1->statsforecast>=1.0->sovai[full]) (0.9.8)\n",
            "Requirement already satisfied: adagio>=0.2.4 in /opt/conda/lib/python3.10/site-packages (from fugue>=0.8.1->statsforecast>=1.0->sovai[full]) (0.2.6)\n",
            "Requirement already satisfied: httpcore==1.* in /opt/conda/lib/python3.10/site-packages (from httpx<1,>=0.23.0->openai>=1.0->sovai[full]) (1.0.5)\n",
            "Requirement already satisfied: h11<0.15,>=0.13 in /opt/conda/lib/python3.10/site-packages (from httpcore==1.*->httpx<1,>=0.23.0->openai>=1.0->sovai[full]) (0.14.0)\n",
            "Requirement already satisfied: parso<0.9.0,>=0.8.3 in /opt/conda/lib/python3.10/site-packages (from jedi>=0.16->ipython->datawrapper) (0.8.4)\n",
            "Requirement already satisfied: MarkupSafe>=2.0 in /opt/conda/lib/python3.10/site-packages (from jinja2>=2.9.6->pyvis<0.4.0,>=0.3.2->sovai[full]) (2.1.5)\n",
            "Requirement already satisfied: attrs>=19.2.0 in /opt/conda/lib/python3.10/site-packages (from jsonlines<5.0,>=4.0->edgar-tool<2.0.0,>=1.3.3->sovai[full]) (24.2.0)\n",
            "Requirement already satisfied: jsonschema-specifications>=2023.03.6 in /opt/conda/lib/python3.10/site-packages (from jsonschema>=2.6->nbformat>=5.2.0->papermill) (2023.12.1)\n",
            "Requirement already satisfied: referencing>=0.28.4 in /opt/conda/lib/python3.10/site-packages (from jsonschema>=2.6->nbformat>=5.2.0->papermill) (0.35.1)\n",
            "Requirement already satisfied: rpds-py>=0.7.1 in /opt/conda/lib/python3.10/site-packages (from jsonschema>=2.6->nbformat>=5.2.0->papermill) (0.18.1)\n",
            "Requirement already satisfied: pyzmq>=23.0 in /opt/conda/lib/python3.10/site-packages (from jupyter-client>=6.1.12->nbclient>=0.2.0->papermill) (26.0.3)\n",
            "Requirement already satisfied: tornado>=6.2 in /opt/conda/lib/python3.10/site-packages (from jupyter-client>=6.1.12->nbclient>=0.2.0->papermill) (6.4.1)\n",
            "Requirement already satisfied: platformdirs>=2.5 in /opt/conda/lib/python3.10/site-packages (from jupyter-core!=5.0.*,>=4.12->nbclient>=0.2.0->papermill) (4.2.2)\n",
            "Requirement already satisfied: mdurl~=0.1 in /opt/conda/lib/python3.10/site-packages (from markdown-it-py>=2.2.0->rich->datawrapper) (0.1.2)\n",
            "Requirement already satisfied: wcwidth in /opt/conda/lib/python3.10/site-packages (from prompt-toolkit<3.1.0,>=3.0.41->ipython->datawrapper) (0.2.13)\n",
            "Requirement already satisfied: annotated-types>=0.4.0 in /opt/conda/lib/python3.10/site-packages (from pydantic<3,>=1.9.0->openai>=1.0->sovai[full]) (0.7.0)\n",
            "Requirement already satisfied: pydantic-core==2.23.2 in /opt/conda/lib/python3.10/site-packages (from pydantic<3,>=1.9.0->openai>=1.0->sovai[full]) (2.23.2)\n",
            "Requirement already satisfied: patsy>=0.5.6 in /opt/conda/lib/python3.10/site-packages (from statsmodels>=0.13.2->statsforecast>=1.0->sovai[full]) (0.5.6)\n",
            "Requirement already satisfied: executing>=1.2.0 in /opt/conda/lib/python3.10/site-packages (from stack-data->ipython->datawrapper) (2.0.1)\n",
            "Requirement already satisfied: asttokens>=2.1.0 in /opt/conda/lib/python3.10/site-packages (from stack-data->ipython->datawrapper) (2.4.1)\n",
            "Requirement already satisfied: pure-eval in /opt/conda/lib/python3.10/site-packages (from stack-data->ipython->datawrapper) (0.2.2)\n",
            "Requirement already satisfied: qdldl in /opt/conda/lib/python3.10/site-packages (from osqp>=0.6.2->cvxpy>=1.4.1->skfolio>=0.3->sovai[full]) (0.1.7.post4)\n",
            "Requirement already satisfied: fsspec>=2022.5.0 in /opt/conda/lib/python3.10/site-packages (from triad>=0.9.7->fugue>=0.8.1->statsforecast>=1.0->sovai[full]) (2024.6.1)\n",
            "Requirement already satisfied: fs in /opt/conda/lib/python3.10/site-packages (from triad>=0.9.7->fugue>=0.8.1->statsforecast>=1.0->sovai[full]) (2.4.16)\n",
            "Requirement already satisfied: appdirs~=1.4.3 in /opt/conda/lib/python3.10/site-packages (from fs->triad>=0.9.7->fugue>=0.8.1->statsforecast>=1.0->sovai[full]) (1.4.4)\n"
          ]
        },
        {
          "data": {
            "application/vnd.jupyter.widget-view+json": {
              "model_id": "156b5e0470cc408cbe87d5f94202c30d",
              "version_major": 2,
              "version_minor": 0
            },
            "text/plain": [
              "Executing:   0%|          | 0/19 [00:00<?, ?cell/s]"
            ]
          },
          "metadata": {},
          "output_type": "display_data"
        },
        {
          "name": "stderr",
          "output_type": "stream",
          "text": [
            "[IPKernelApp] WARNING | Error in loading extension: beatrix_jupyterlab\n",
            "Check your config files in /home/jupyter/.ipython/profile_default\n",
            "Traceback (most recent call last):\n",
            "  File \"/opt/conda/lib/python3.10/site-packages/IPython/core/shellapp.py\", line 282, in init_extensions\n",
            "    self.shell.extension_manager.load_extension(ext)\n",
            "  File \"/opt/conda/lib/python3.10/site-packages/IPython/core/extensions.py\", line 62, in load_extension\n",
            "    return self._load_extension(module_str)\n",
            "  File \"/opt/conda/lib/python3.10/site-packages/IPython/core/extensions.py\", line 77, in _load_extension\n",
            "    mod = import_module(module_str)\n",
            "  File \"/opt/conda/lib/python3.10/importlib/__init__.py\", line 126, in import_module\n",
            "    return _bootstrap._gcd_import(name[level:], package, level)\n",
            "  File \"<frozen importlib._bootstrap>\", line 1050, in _gcd_import\n",
            "  File \"<frozen importlib._bootstrap>\", line 1027, in _find_and_load\n",
            "  File \"<frozen importlib._bootstrap>\", line 1004, in _find_and_load_unlocked\n",
            "ModuleNotFoundError: No module named 'beatrix_jupyterlab'\n"
          ]
        },
        {
          "data": {
            "application/vnd.jupyter.widget-view+json": {
              "model_id": "992f8db7ae8d4bfab0cebb6a73b16e89",
              "version_major": 2,
              "version_minor": 0
            },
            "text/plain": [
              "Executing:   0%|          | 0/19 [00:00<?, ?cell/s]"
            ]
          },
          "metadata": {},
          "output_type": "display_data"
        },
        {
          "name": "stderr",
          "output_type": "stream",
          "text": [
            "[IPKernelApp] WARNING | Error in loading extension: beatrix_jupyterlab\n",
            "Check your config files in /home/jupyter/.ipython/profile_default\n",
            "Traceback (most recent call last):\n",
            "  File \"/opt/conda/lib/python3.10/site-packages/IPython/core/shellapp.py\", line 282, in init_extensions\n",
            "    self.shell.extension_manager.load_extension(ext)\n",
            "  File \"/opt/conda/lib/python3.10/site-packages/IPython/core/extensions.py\", line 62, in load_extension\n",
            "    return self._load_extension(module_str)\n",
            "  File \"/opt/conda/lib/python3.10/site-packages/IPython/core/extensions.py\", line 77, in _load_extension\n",
            "    mod = import_module(module_str)\n",
            "  File \"/opt/conda/lib/python3.10/importlib/__init__.py\", line 126, in import_module\n",
            "    return _bootstrap._gcd_import(name[level:], package, level)\n",
            "  File \"<frozen importlib._bootstrap>\", line 1050, in _gcd_import\n",
            "  File \"<frozen importlib._bootstrap>\", line 1027, in _find_and_load\n",
            "  File \"<frozen importlib._bootstrap>\", line 1004, in _find_and_load_unlocked\n",
            "ModuleNotFoundError: No module named 'beatrix_jupyterlab'\n"
          ]
        },
        {
          "data": {
            "application/vnd.jupyter.widget-view+json": {
              "model_id": "be1aaac61b634c7e8d848ddeb4040b63",
              "version_major": 2,
              "version_minor": 0
            },
            "text/plain": [
              "Executing:   0%|          | 0/11 [00:00<?, ?cell/s]"
            ]
          },
          "metadata": {},
          "output_type": "display_data"
        },
        {
          "name": "stderr",
          "output_type": "stream",
          "text": [
            "[IPKernelApp] WARNING | Error in loading extension: beatrix_jupyterlab\n",
            "Check your config files in /home/jupyter/.ipython/profile_default\n",
            "Traceback (most recent call last):\n",
            "  File \"/opt/conda/lib/python3.10/site-packages/IPython/core/shellapp.py\", line 282, in init_extensions\n",
            "    self.shell.extension_manager.load_extension(ext)\n",
            "  File \"/opt/conda/lib/python3.10/site-packages/IPython/core/extensions.py\", line 62, in load_extension\n",
            "    return self._load_extension(module_str)\n",
            "  File \"/opt/conda/lib/python3.10/site-packages/IPython/core/extensions.py\", line 77, in _load_extension\n",
            "    mod = import_module(module_str)\n",
            "  File \"/opt/conda/lib/python3.10/importlib/__init__.py\", line 126, in import_module\n",
            "    return _bootstrap._gcd_import(name[level:], package, level)\n",
            "  File \"<frozen importlib._bootstrap>\", line 1050, in _gcd_import\n",
            "  File \"<frozen importlib._bootstrap>\", line 1027, in _find_and_load\n",
            "  File \"<frozen importlib._bootstrap>\", line 1004, in _find_and_load_unlocked\n",
            "ModuleNotFoundError: No module named 'beatrix_jupyterlab'\n"
          ]
        },
        {
          "data": {
            "application/vnd.jupyter.widget-view+json": {
              "model_id": "1ec5df1ea79341d6863292d32b42540f",
              "version_major": 2,
              "version_minor": 0
            },
            "text/plain": [
              "Executing:   0%|          | 0/11 [00:00<?, ?cell/s]"
            ]
          },
          "metadata": {},
          "output_type": "display_data"
        },
        {
          "name": "stderr",
          "output_type": "stream",
          "text": [
            "[IPKernelApp] WARNING | Error in loading extension: beatrix_jupyterlab\n",
            "Check your config files in /home/jupyter/.ipython/profile_default\n",
            "Traceback (most recent call last):\n",
            "  File \"/opt/conda/lib/python3.10/site-packages/IPython/core/shellapp.py\", line 282, in init_extensions\n",
            "    self.shell.extension_manager.load_extension(ext)\n",
            "  File \"/opt/conda/lib/python3.10/site-packages/IPython/core/extensions.py\", line 62, in load_extension\n",
            "    return self._load_extension(module_str)\n",
            "  File \"/opt/conda/lib/python3.10/site-packages/IPython/core/extensions.py\", line 77, in _load_extension\n",
            "    mod = import_module(module_str)\n",
            "  File \"/opt/conda/lib/python3.10/importlib/__init__.py\", line 126, in import_module\n",
            "    return _bootstrap._gcd_import(name[level:], package, level)\n",
            "  File \"<frozen importlib._bootstrap>\", line 1050, in _gcd_import\n",
            "  File \"<frozen importlib._bootstrap>\", line 1027, in _find_and_load\n",
            "  File \"<frozen importlib._bootstrap>\", line 1004, in _find_and_load_unlocked\n",
            "ModuleNotFoundError: No module named 'beatrix_jupyterlab'\n"
          ]
        },
        {
          "data": {
            "application/vnd.jupyter.widget-view+json": {
              "model_id": "ccb6506b52154bb6937691518fd933db",
              "version_major": 2,
              "version_minor": 0
            },
            "text/plain": [
              "Executing:   0%|          | 0/11 [00:00<?, ?cell/s]"
            ]
          },
          "metadata": {},
          "output_type": "display_data"
        },
        {
          "name": "stderr",
          "output_type": "stream",
          "text": [
            "[IPKernelApp] WARNING | Error in loading extension: beatrix_jupyterlab\n",
            "Check your config files in /home/jupyter/.ipython/profile_default\n",
            "Traceback (most recent call last):\n",
            "  File \"/opt/conda/lib/python3.10/site-packages/IPython/core/shellapp.py\", line 282, in init_extensions\n",
            "    self.shell.extension_manager.load_extension(ext)\n",
            "  File \"/opt/conda/lib/python3.10/site-packages/IPython/core/extensions.py\", line 62, in load_extension\n",
            "    return self._load_extension(module_str)\n",
            "  File \"/opt/conda/lib/python3.10/site-packages/IPython/core/extensions.py\", line 77, in _load_extension\n",
            "    mod = import_module(module_str)\n",
            "  File \"/opt/conda/lib/python3.10/importlib/__init__.py\", line 126, in import_module\n",
            "    return _bootstrap._gcd_import(name[level:], package, level)\n",
            "  File \"<frozen importlib._bootstrap>\", line 1050, in _gcd_import\n",
            "  File \"<frozen importlib._bootstrap>\", line 1027, in _find_and_load\n",
            "  File \"<frozen importlib._bootstrap>\", line 1004, in _find_and_load_unlocked\n",
            "ModuleNotFoundError: No module named 'beatrix_jupyterlab'\n"
          ]
        },
        {
          "data": {
            "application/vnd.jupyter.widget-view+json": {
              "model_id": "2d773ccb8a8a45afabbda871346e940b",
              "version_major": 2,
              "version_minor": 0
            },
            "text/plain": [
              "Executing:   0%|          | 0/12 [00:00<?, ?cell/s]"
            ]
          },
          "metadata": {},
          "output_type": "display_data"
        },
        {
          "name": "stderr",
          "output_type": "stream",
          "text": [
            "[IPKernelApp] WARNING | Error in loading extension: beatrix_jupyterlab\n",
            "Check your config files in /home/jupyter/.ipython/profile_default\n",
            "Traceback (most recent call last):\n",
            "  File \"/opt/conda/lib/python3.10/site-packages/IPython/core/shellapp.py\", line 282, in init_extensions\n",
            "    self.shell.extension_manager.load_extension(ext)\n",
            "  File \"/opt/conda/lib/python3.10/site-packages/IPython/core/extensions.py\", line 62, in load_extension\n",
            "    return self._load_extension(module_str)\n",
            "  File \"/opt/conda/lib/python3.10/site-packages/IPython/core/extensions.py\", line 77, in _load_extension\n",
            "    mod = import_module(module_str)\n",
            "  File \"/opt/conda/lib/python3.10/importlib/__init__.py\", line 126, in import_module\n",
            "    return _bootstrap._gcd_import(name[level:], package, level)\n",
            "  File \"<frozen importlib._bootstrap>\", line 1050, in _gcd_import\n",
            "  File \"<frozen importlib._bootstrap>\", line 1027, in _find_and_load\n",
            "  File \"<frozen importlib._bootstrap>\", line 1004, in _find_and_load_unlocked\n",
            "ModuleNotFoundError: No module named 'beatrix_jupyterlab'\n"
          ]
        },
        {
          "ename": "KeyboardInterrupt",
          "evalue": "",
          "output_type": "error",
          "traceback": [
            "\u001b[0;31m---------------------------------------------------------------------------\u001b[0m",
            "\u001b[0;31mKeyboardInterrupt\u001b[0m                         Traceback (most recent call last)",
            "Cell \u001b[0;32mIn[13], line 191\u001b[0m\n\u001b[1;32m    189\u001b[0m \u001b[38;5;66;03m# Execute the notebook using Papermill\u001b[39;00m\n\u001b[1;32m    190\u001b[0m \u001b[38;5;28;01mtry\u001b[39;00m:\n\u001b[0;32m--> 191\u001b[0m     \u001b[43mexecute_notebook_papermill\u001b[49m\u001b[43m(\u001b[49m\u001b[43mlocal_notebook_path\u001b[49m\u001b[43m,\u001b[49m\u001b[43m \u001b[49m\u001b[43mexecuted_notebook_path\u001b[49m\u001b[43m)\u001b[49m\n\u001b[1;32m    192\u001b[0m \u001b[38;5;28;01mexcept\u001b[39;00m \u001b[38;5;167;01mException\u001b[39;00m:\n\u001b[1;32m    193\u001b[0m     logging\u001b[38;5;241m.\u001b[39mwarning(\u001b[38;5;124mf\u001b[39m\u001b[38;5;124m\"\u001b[39m\u001b[38;5;124mSkipping upload for \u001b[39m\u001b[38;5;132;01m{\u001b[39;00mnotebook_filename\u001b[38;5;132;01m}\u001b[39;00m\u001b[38;5;124m due to execution failure.\u001b[39m\u001b[38;5;124m\"\u001b[39m)\n",
            "Cell \u001b[0;32mIn[13], line 110\u001b[0m, in \u001b[0;36mexecute_notebook_papermill\u001b[0;34m(input_path, output_path, parameters)\u001b[0m\n\u001b[1;32m    106\u001b[0m \u001b[38;5;250m\u001b[39m\u001b[38;5;124;03m\"\"\"\u001b[39;00m\n\u001b[1;32m    107\u001b[0m \u001b[38;5;124;03mExecutes a Jupyter notebook using Papermill and saves the output.\u001b[39;00m\n\u001b[1;32m    108\u001b[0m \u001b[38;5;124;03m\"\"\"\u001b[39;00m\n\u001b[1;32m    109\u001b[0m \u001b[38;5;28;01mtry\u001b[39;00m:\n\u001b[0;32m--> 110\u001b[0m     \u001b[43mpm\u001b[49m\u001b[38;5;241;43m.\u001b[39;49m\u001b[43mexecute_notebook\u001b[49m\u001b[43m(\u001b[49m\n\u001b[1;32m    111\u001b[0m \u001b[43m        \u001b[49m\u001b[43minput_path\u001b[49m\u001b[43m,\u001b[49m\n\u001b[1;32m    112\u001b[0m \u001b[43m        \u001b[49m\u001b[43moutput_path\u001b[49m\u001b[43m,\u001b[49m\n\u001b[1;32m    113\u001b[0m \u001b[43m        \u001b[49m\u001b[43mparameters\u001b[49m\u001b[38;5;241;43m=\u001b[39;49m\u001b[43mparameters\u001b[49m\u001b[43m \u001b[49m\u001b[38;5;129;43;01mor\u001b[39;49;00m\u001b[43m \u001b[49m\u001b[43m{\u001b[49m\u001b[43m}\u001b[49m\n\u001b[1;32m    114\u001b[0m \u001b[43m    \u001b[49m\u001b[43m)\u001b[49m\n\u001b[1;32m    115\u001b[0m     logging\u001b[38;5;241m.\u001b[39minfo(\u001b[38;5;124mf\u001b[39m\u001b[38;5;124m\"\u001b[39m\u001b[38;5;124mExecuted and saved notebook to \u001b[39m\u001b[38;5;132;01m{\u001b[39;00moutput_path\u001b[38;5;132;01m}\u001b[39;00m\u001b[38;5;124m\"\u001b[39m)\n\u001b[1;32m    116\u001b[0m \u001b[38;5;28;01mexcept\u001b[39;00m \u001b[38;5;167;01mException\u001b[39;00m \u001b[38;5;28;01mas\u001b[39;00m e:\n",
            "File \u001b[0;32m/opt/conda/lib/python3.10/site-packages/papermill/execute.py:116\u001b[0m, in \u001b[0;36mexecute_notebook\u001b[0;34m(input_path, output_path, parameters, engine_name, request_save_on_cell_execute, prepare_only, kernel_name, language, progress_bar, log_output, stdout_file, stderr_file, start_timeout, report_mode, cwd, **engine_kwargs)\u001b[0m\n\u001b[1;32m    114\u001b[0m \u001b[38;5;66;03m# Execute the Notebook in `cwd` if it is set\u001b[39;00m\n\u001b[1;32m    115\u001b[0m \u001b[38;5;28;01mwith\u001b[39;00m chdir(cwd):\n\u001b[0;32m--> 116\u001b[0m     nb \u001b[38;5;241m=\u001b[39m \u001b[43mpapermill_engines\u001b[49m\u001b[38;5;241;43m.\u001b[39;49m\u001b[43mexecute_notebook_with_engine\u001b[49m\u001b[43m(\u001b[49m\n\u001b[1;32m    117\u001b[0m \u001b[43m        \u001b[49m\u001b[43mengine_name\u001b[49m\u001b[43m,\u001b[49m\n\u001b[1;32m    118\u001b[0m \u001b[43m        \u001b[49m\u001b[43mnb\u001b[49m\u001b[43m,\u001b[49m\n\u001b[1;32m    119\u001b[0m \u001b[43m        \u001b[49m\u001b[43minput_path\u001b[49m\u001b[38;5;241;43m=\u001b[39;49m\u001b[43minput_path\u001b[49m\u001b[43m,\u001b[49m\n\u001b[1;32m    120\u001b[0m \u001b[43m        \u001b[49m\u001b[43moutput_path\u001b[49m\u001b[38;5;241;43m=\u001b[39;49m\u001b[43moutput_path\u001b[49m\u001b[43m \u001b[49m\u001b[38;5;28;43;01mif\u001b[39;49;00m\u001b[43m \u001b[49m\u001b[43mrequest_save_on_cell_execute\u001b[49m\u001b[43m \u001b[49m\u001b[38;5;28;43;01melse\u001b[39;49;00m\u001b[43m \u001b[49m\u001b[38;5;28;43;01mNone\u001b[39;49;00m\u001b[43m,\u001b[49m\n\u001b[1;32m    121\u001b[0m \u001b[43m        \u001b[49m\u001b[43mkernel_name\u001b[49m\u001b[38;5;241;43m=\u001b[39;49m\u001b[43mkernel_name\u001b[49m\u001b[43m,\u001b[49m\n\u001b[1;32m    122\u001b[0m \u001b[43m        \u001b[49m\u001b[43mprogress_bar\u001b[49m\u001b[38;5;241;43m=\u001b[39;49m\u001b[43mprogress_bar\u001b[49m\u001b[43m,\u001b[49m\n\u001b[1;32m    123\u001b[0m \u001b[43m        \u001b[49m\u001b[43mlog_output\u001b[49m\u001b[38;5;241;43m=\u001b[39;49m\u001b[43mlog_output\u001b[49m\u001b[43m,\u001b[49m\n\u001b[1;32m    124\u001b[0m \u001b[43m        \u001b[49m\u001b[43mstart_timeout\u001b[49m\u001b[38;5;241;43m=\u001b[39;49m\u001b[43mstart_timeout\u001b[49m\u001b[43m,\u001b[49m\n\u001b[1;32m    125\u001b[0m \u001b[43m        \u001b[49m\u001b[43mstdout_file\u001b[49m\u001b[38;5;241;43m=\u001b[39;49m\u001b[43mstdout_file\u001b[49m\u001b[43m,\u001b[49m\n\u001b[1;32m    126\u001b[0m \u001b[43m        \u001b[49m\u001b[43mstderr_file\u001b[49m\u001b[38;5;241;43m=\u001b[39;49m\u001b[43mstderr_file\u001b[49m\u001b[43m,\u001b[49m\n\u001b[1;32m    127\u001b[0m \u001b[43m        \u001b[49m\u001b[38;5;241;43m*\u001b[39;49m\u001b[38;5;241;43m*\u001b[39;49m\u001b[43mengine_kwargs\u001b[49m\u001b[43m,\u001b[49m\n\u001b[1;32m    128\u001b[0m \u001b[43m    \u001b[49m\u001b[43m)\u001b[49m\n\u001b[1;32m    130\u001b[0m \u001b[38;5;66;03m# Check for errors first (it saves on error before raising)\u001b[39;00m\n\u001b[1;32m    131\u001b[0m raise_for_execution_errors(nb, output_path)\n",
            "File \u001b[0;32m/opt/conda/lib/python3.10/site-packages/papermill/engines.py:48\u001b[0m, in \u001b[0;36mPapermillEngines.execute_notebook_with_engine\u001b[0;34m(self, engine_name, nb, kernel_name, **kwargs)\u001b[0m\n\u001b[1;32m     46\u001b[0m \u001b[38;5;28;01mdef\u001b[39;00m \u001b[38;5;21mexecute_notebook_with_engine\u001b[39m(\u001b[38;5;28mself\u001b[39m, engine_name, nb, kernel_name, \u001b[38;5;241m*\u001b[39m\u001b[38;5;241m*\u001b[39mkwargs):\n\u001b[1;32m     47\u001b[0m \u001b[38;5;250m    \u001b[39m\u001b[38;5;124;03m\"\"\"Fetch a named engine and execute the nb object against it.\"\"\"\u001b[39;00m\n\u001b[0;32m---> 48\u001b[0m     \u001b[38;5;28;01mreturn\u001b[39;00m \u001b[38;5;28;43mself\u001b[39;49m\u001b[38;5;241;43m.\u001b[39;49m\u001b[43mget_engine\u001b[49m\u001b[43m(\u001b[49m\u001b[43mengine_name\u001b[49m\u001b[43m)\u001b[49m\u001b[38;5;241;43m.\u001b[39;49m\u001b[43mexecute_notebook\u001b[49m\u001b[43m(\u001b[49m\u001b[43mnb\u001b[49m\u001b[43m,\u001b[49m\u001b[43m \u001b[49m\u001b[43mkernel_name\u001b[49m\u001b[43m,\u001b[49m\u001b[43m \u001b[49m\u001b[38;5;241;43m*\u001b[39;49m\u001b[38;5;241;43m*\u001b[39;49m\u001b[43mkwargs\u001b[49m\u001b[43m)\u001b[49m\n",
            "File \u001b[0;32m/opt/conda/lib/python3.10/site-packages/papermill/engines.py:370\u001b[0m, in \u001b[0;36mEngine.execute_notebook\u001b[0;34m(cls, nb, kernel_name, output_path, progress_bar, log_output, autosave_cell_every, **kwargs)\u001b[0m\n\u001b[1;32m    368\u001b[0m nb_man\u001b[38;5;241m.\u001b[39mnotebook_start()\n\u001b[1;32m    369\u001b[0m \u001b[38;5;28;01mtry\u001b[39;00m:\n\u001b[0;32m--> 370\u001b[0m     \u001b[38;5;28;43mcls\u001b[39;49m\u001b[38;5;241;43m.\u001b[39;49m\u001b[43mexecute_managed_notebook\u001b[49m\u001b[43m(\u001b[49m\u001b[43mnb_man\u001b[49m\u001b[43m,\u001b[49m\u001b[43m \u001b[49m\u001b[43mkernel_name\u001b[49m\u001b[43m,\u001b[49m\u001b[43m \u001b[49m\u001b[43mlog_output\u001b[49m\u001b[38;5;241;43m=\u001b[39;49m\u001b[43mlog_output\u001b[49m\u001b[43m,\u001b[49m\u001b[43m \u001b[49m\u001b[38;5;241;43m*\u001b[39;49m\u001b[38;5;241;43m*\u001b[39;49m\u001b[43mkwargs\u001b[49m\u001b[43m)\u001b[49m\n\u001b[1;32m    371\u001b[0m \u001b[38;5;28;01mfinally\u001b[39;00m:\n\u001b[1;32m    372\u001b[0m     nb_man\u001b[38;5;241m.\u001b[39mcleanup_pbar()\n",
            "File \u001b[0;32m/opt/conda/lib/python3.10/site-packages/papermill/engines.py:442\u001b[0m, in \u001b[0;36mNBClientEngine.execute_managed_notebook\u001b[0;34m(cls, nb_man, kernel_name, log_output, stdout_file, stderr_file, start_timeout, execution_timeout, **kwargs)\u001b[0m\n\u001b[1;32m    431\u001b[0m \u001b[38;5;66;03m# Nicely handle preprocessor arguments prioritizing values set by engine\u001b[39;00m\n\u001b[1;32m    432\u001b[0m final_kwargs \u001b[38;5;241m=\u001b[39m merge_kwargs(\n\u001b[1;32m    433\u001b[0m     safe_kwargs,\n\u001b[1;32m    434\u001b[0m     timeout\u001b[38;5;241m=\u001b[39mexecution_timeout \u001b[38;5;28;01mif\u001b[39;00m execution_timeout \u001b[38;5;28;01melse\u001b[39;00m kwargs\u001b[38;5;241m.\u001b[39mget(\u001b[38;5;124m'\u001b[39m\u001b[38;5;124mtimeout\u001b[39m\u001b[38;5;124m'\u001b[39m),\n\u001b[0;32m   (...)\u001b[0m\n\u001b[1;32m    440\u001b[0m     stderr_file\u001b[38;5;241m=\u001b[39mstderr_file,\n\u001b[1;32m    441\u001b[0m )\n\u001b[0;32m--> 442\u001b[0m \u001b[38;5;28;01mreturn\u001b[39;00m \u001b[43mPapermillNotebookClient\u001b[49m\u001b[43m(\u001b[49m\u001b[43mnb_man\u001b[49m\u001b[43m,\u001b[49m\u001b[43m \u001b[49m\u001b[38;5;241;43m*\u001b[39;49m\u001b[38;5;241;43m*\u001b[39;49m\u001b[43mfinal_kwargs\u001b[49m\u001b[43m)\u001b[49m\u001b[38;5;241;43m.\u001b[39;49m\u001b[43mexecute\u001b[49m\u001b[43m(\u001b[49m\u001b[43m)\u001b[49m\n",
            "File \u001b[0;32m/opt/conda/lib/python3.10/site-packages/papermill/clientwrap.py:45\u001b[0m, in \u001b[0;36mPapermillNotebookClient.execute\u001b[0;34m(self, **kwargs)\u001b[0m\n\u001b[1;32m     43\u001b[0m \u001b[38;5;28;01mwith\u001b[39;00m \u001b[38;5;28mself\u001b[39m\u001b[38;5;241m.\u001b[39msetup_kernel(\u001b[38;5;241m*\u001b[39m\u001b[38;5;241m*\u001b[39mkwargs):\n\u001b[1;32m     44\u001b[0m     \u001b[38;5;28mself\u001b[39m\u001b[38;5;241m.\u001b[39mlog\u001b[38;5;241m.\u001b[39minfo(\u001b[38;5;124mf\u001b[39m\u001b[38;5;124m\"\u001b[39m\u001b[38;5;124mExecuting notebook with kernel: \u001b[39m\u001b[38;5;132;01m{\u001b[39;00m\u001b[38;5;28mself\u001b[39m\u001b[38;5;241m.\u001b[39mkernel_name\u001b[38;5;132;01m}\u001b[39;00m\u001b[38;5;124m\"\u001b[39m)\n\u001b[0;32m---> 45\u001b[0m     \u001b[38;5;28;43mself\u001b[39;49m\u001b[38;5;241;43m.\u001b[39;49m\u001b[43mpapermill_execute_cells\u001b[49m\u001b[43m(\u001b[49m\u001b[43m)\u001b[49m\n\u001b[1;32m     46\u001b[0m     info_msg \u001b[38;5;241m=\u001b[39m \u001b[38;5;28mself\u001b[39m\u001b[38;5;241m.\u001b[39mwait_for_reply(\u001b[38;5;28mself\u001b[39m\u001b[38;5;241m.\u001b[39mkc\u001b[38;5;241m.\u001b[39mkernel_info())\n\u001b[1;32m     47\u001b[0m     \u001b[38;5;28mself\u001b[39m\u001b[38;5;241m.\u001b[39mnb\u001b[38;5;241m.\u001b[39mmetadata[\u001b[38;5;124m'\u001b[39m\u001b[38;5;124mlanguage_info\u001b[39m\u001b[38;5;124m'\u001b[39m] \u001b[38;5;241m=\u001b[39m info_msg[\u001b[38;5;124m'\u001b[39m\u001b[38;5;124mcontent\u001b[39m\u001b[38;5;124m'\u001b[39m][\u001b[38;5;124m'\u001b[39m\u001b[38;5;124mlanguage_info\u001b[39m\u001b[38;5;124m'\u001b[39m]\n",
            "File \u001b[0;32m/opt/conda/lib/python3.10/site-packages/papermill/clientwrap.py:72\u001b[0m, in \u001b[0;36mPapermillNotebookClient.papermill_execute_cells\u001b[0;34m(self)\u001b[0m\n\u001b[1;32m     70\u001b[0m \u001b[38;5;28;01mtry\u001b[39;00m:\n\u001b[1;32m     71\u001b[0m     \u001b[38;5;28mself\u001b[39m\u001b[38;5;241m.\u001b[39mnb_man\u001b[38;5;241m.\u001b[39mcell_start(cell, index)\n\u001b[0;32m---> 72\u001b[0m     \u001b[38;5;28;43mself\u001b[39;49m\u001b[38;5;241;43m.\u001b[39;49m\u001b[43mexecute_cell\u001b[49m\u001b[43m(\u001b[49m\u001b[43mcell\u001b[49m\u001b[43m,\u001b[49m\u001b[43m \u001b[49m\u001b[43mindex\u001b[49m\u001b[43m)\u001b[49m\n\u001b[1;32m     73\u001b[0m \u001b[38;5;28;01mexcept\u001b[39;00m CellExecutionError \u001b[38;5;28;01mas\u001b[39;00m ex:\n\u001b[1;32m     74\u001b[0m     \u001b[38;5;28mself\u001b[39m\u001b[38;5;241m.\u001b[39mnb_man\u001b[38;5;241m.\u001b[39mcell_exception(\u001b[38;5;28mself\u001b[39m\u001b[38;5;241m.\u001b[39mnb\u001b[38;5;241m.\u001b[39mcells[index], cell_index\u001b[38;5;241m=\u001b[39mindex, exception\u001b[38;5;241m=\u001b[39mex)\n",
            "File \u001b[0;32m/opt/conda/lib/python3.10/site-packages/jupyter_core/utils/__init__.py:159\u001b[0m, in \u001b[0;36mrun_sync.<locals>.wrapped\u001b[0;34m(*args, **kwargs)\u001b[0m\n\u001b[1;32m    157\u001b[0m     \u001b[38;5;28;01mif\u001b[39;00m name \u001b[38;5;129;01mnot\u001b[39;00m \u001b[38;5;129;01min\u001b[39;00m _runner_map:\n\u001b[1;32m    158\u001b[0m         _runner_map[name] \u001b[38;5;241m=\u001b[39m _TaskRunner()\n\u001b[0;32m--> 159\u001b[0m     \u001b[38;5;28;01mreturn\u001b[39;00m \u001b[43m_runner_map\u001b[49m\u001b[43m[\u001b[49m\u001b[43mname\u001b[49m\u001b[43m]\u001b[49m\u001b[38;5;241;43m.\u001b[39;49m\u001b[43mrun\u001b[49m\u001b[43m(\u001b[49m\u001b[43minner\u001b[49m\u001b[43m)\u001b[49m\n\u001b[1;32m    160\u001b[0m \u001b[38;5;28;01mexcept\u001b[39;00m \u001b[38;5;167;01mRuntimeError\u001b[39;00m:\n\u001b[1;32m    161\u001b[0m     \u001b[38;5;28;01mpass\u001b[39;00m\n",
            "File \u001b[0;32m/opt/conda/lib/python3.10/site-packages/jupyter_core/utils/__init__.py:126\u001b[0m, in \u001b[0;36m_TaskRunner.run\u001b[0;34m(self, coro)\u001b[0m\n\u001b[1;32m    124\u001b[0m         \u001b[38;5;28mself\u001b[39m\u001b[38;5;241m.\u001b[39m__runner_thread\u001b[38;5;241m.\u001b[39mstart()\n\u001b[1;32m    125\u001b[0m fut \u001b[38;5;241m=\u001b[39m asyncio\u001b[38;5;241m.\u001b[39mrun_coroutine_threadsafe(coro, \u001b[38;5;28mself\u001b[39m\u001b[38;5;241m.\u001b[39m__io_loop)\n\u001b[0;32m--> 126\u001b[0m \u001b[38;5;28;01mreturn\u001b[39;00m \u001b[43mfut\u001b[49m\u001b[38;5;241;43m.\u001b[39;49m\u001b[43mresult\u001b[49m\u001b[43m(\u001b[49m\u001b[38;5;28;43;01mNone\u001b[39;49;00m\u001b[43m)\u001b[49m\n",
            "File \u001b[0;32m/opt/conda/lib/python3.10/concurrent/futures/_base.py:453\u001b[0m, in \u001b[0;36mFuture.result\u001b[0;34m(self, timeout)\u001b[0m\n\u001b[1;32m    450\u001b[0m \u001b[38;5;28;01melif\u001b[39;00m \u001b[38;5;28mself\u001b[39m\u001b[38;5;241m.\u001b[39m_state \u001b[38;5;241m==\u001b[39m FINISHED:\n\u001b[1;32m    451\u001b[0m     \u001b[38;5;28;01mreturn\u001b[39;00m \u001b[38;5;28mself\u001b[39m\u001b[38;5;241m.\u001b[39m__get_result()\n\u001b[0;32m--> 453\u001b[0m \u001b[38;5;28;43mself\u001b[39;49m\u001b[38;5;241;43m.\u001b[39;49m\u001b[43m_condition\u001b[49m\u001b[38;5;241;43m.\u001b[39;49m\u001b[43mwait\u001b[49m\u001b[43m(\u001b[49m\u001b[43mtimeout\u001b[49m\u001b[43m)\u001b[49m\n\u001b[1;32m    455\u001b[0m \u001b[38;5;28;01mif\u001b[39;00m \u001b[38;5;28mself\u001b[39m\u001b[38;5;241m.\u001b[39m_state \u001b[38;5;129;01min\u001b[39;00m [CANCELLED, CANCELLED_AND_NOTIFIED]:\n\u001b[1;32m    456\u001b[0m     \u001b[38;5;28;01mraise\u001b[39;00m CancelledError()\n",
            "File \u001b[0;32m/opt/conda/lib/python3.10/threading.py:320\u001b[0m, in \u001b[0;36mCondition.wait\u001b[0;34m(self, timeout)\u001b[0m\n\u001b[1;32m    318\u001b[0m \u001b[38;5;28;01mtry\u001b[39;00m:    \u001b[38;5;66;03m# restore state no matter what (e.g., KeyboardInterrupt)\u001b[39;00m\n\u001b[1;32m    319\u001b[0m     \u001b[38;5;28;01mif\u001b[39;00m timeout \u001b[38;5;129;01mis\u001b[39;00m \u001b[38;5;28;01mNone\u001b[39;00m:\n\u001b[0;32m--> 320\u001b[0m         \u001b[43mwaiter\u001b[49m\u001b[38;5;241;43m.\u001b[39;49m\u001b[43macquire\u001b[49m\u001b[43m(\u001b[49m\u001b[43m)\u001b[49m\n\u001b[1;32m    321\u001b[0m         gotit \u001b[38;5;241m=\u001b[39m \u001b[38;5;28;01mTrue\u001b[39;00m\n\u001b[1;32m    322\u001b[0m     \u001b[38;5;28;01melse\u001b[39;00m:\n",
            "\u001b[0;31mKeyboardInterrupt\u001b[0m: "
          ]
        }
      ],
      "source": [
        "import os\n",
        "import sys\n",
        "import argparse\n",
        "from google.cloud import storage\n",
        "import tempfile\n",
        "import subprocess\n",
        "import papermill as pm\n",
        "import logging\n",
        "\n",
        "# Configure logging\n",
        "logging.basicConfig(\n",
        "    level=logging.INFO,\n",
        "    format='%(asctime)s - %(levelname)s - %(message)s'\n",
        ")\n",
        "\n",
        "def parse_arguments():\n",
        "    \"\"\"\n",
        "    Parses command-line arguments.\n",
        "    \"\"\"\n",
        "    parser = argparse.ArgumentParser(description=\"Execute Jupyter Notebooks from GCS using Papermill.\")\n",
        "    parser.add_argument(\n",
        "        '--type',\n",
        "        type=str,\n",
        "        choices=['monthly', 'weekly'],\n",
        "        required=True,\n",
        "        help='Specify the type of notebooks to run: \"monthly\" or \"weekly\".'\n",
        "    )\n",
        "    return parser.parse_args()\n",
        "\n",
        "def initialize_gcs_client():\n",
        "    \"\"\"\n",
        "    Initializes the Google Cloud Storage client.\n",
        "    \"\"\"\n",
        "    try:\n",
        "        client = storage.Client()\n",
        "        logging.info(\"Initialized Google Cloud Storage client.\")\n",
        "        return client\n",
        "    except Exception as e:\n",
        "        logging.error(f\"Error initializing GCS client: {e}\")\n",
        "        sys.exit(1)\n",
        "\n",
        "import re\n",
        "\n",
        "def list_notebooks(bucket, folder_prefix):\n",
        "    \"\"\"\n",
        "    Lists all .ipynb files in the specified GCS folder and sorts them numerically.\n",
        "    \"\"\"\n",
        "    try:\n",
        "        blobs = bucket.list_blobs(prefix=folder_prefix)\n",
        "        notebooks = [blob.name for blob in blobs if blob.name.endswith('.ipynb')]\n",
        "        logging.info(f\"Found {len(notebooks)} notebooks in folder '{folder_prefix}'.\")\n",
        "\n",
        "        # Define a helper function to extract numbers from the filename\n",
        "        def extract_number(filename):\n",
        "            # Adjust the regex pattern based on your filename structure\n",
        "            match = re.search(r'(\\d+)', filename)\n",
        "            if match:\n",
        "                return int(match.group(1))\n",
        "            else:\n",
        "                # If no number is found, return a large number to push it to the end\n",
        "                return float('inf')\n",
        "\n",
        "        # Sort the notebooks based on the extracted number\n",
        "        notebooks_sorted = sorted(notebooks, key=extract_number)\n",
        "        logging.info(f\"Sorted notebooks: {notebooks_sorted}\")\n",
        "        return notebooks_sorted\n",
        "    except Exception as e:\n",
        "        logging.error(f\"Error listing notebooks in folder '{folder_prefix}': {e}\")\n",
        "        sys.exit(1)\n",
        "\n",
        "\n",
        "def download_notebook(bucket, source_blob_name, destination_file_path):\n",
        "    \"\"\"\n",
        "    Downloads a single notebook from GCS to the local filesystem.\n",
        "    \"\"\"\n",
        "    try:\n",
        "        blob = bucket.blob(source_blob_name)\n",
        "        blob.download_to_filename(destination_file_path)\n",
        "        logging.info(f\"Downloaded {source_blob_name} to {destination_file_path}\")\n",
        "    except Exception as e:\n",
        "        logging.error(f\"Failed to download {source_blob_name}: {e}\")\n",
        "        raise\n",
        "\n",
        "def install_packages(packages):\n",
        "    \"\"\"\n",
        "    Installs the required Python packages using pip.\n",
        "    \"\"\"\n",
        "    try:\n",
        "        logging.info(\"Upgrading pip and setuptools...\")\n",
        "        subprocess.check_call([sys.executable, \"-m\", \"pip\", \"install\", \"--upgrade\", \"pip\", \"setuptools\"])\n",
        "        logging.info(\"pip and setuptools upgraded successfully.\\n\")\n",
        "\n",
        "        # Force reinstall PyYAML to fix any corruption\n",
        "        logging.info(\"Force reinstalling PyYAML to fix potential corruption...\")\n",
        "        subprocess.check_call([sys.executable, \"-m\", \"pip\", \"install\", \"--force-reinstall\", \"--ignore-installed\", \"PyYAML\"])\n",
        "        logging.info(\"PyYAML reinstalled successfully.\\n\")\n",
        "\n",
        "        logging.info(f\"Installing packages: {', '.join(packages)}\")\n",
        "        subprocess.check_call([sys.executable, \"-m\", \"pip\", \"install\"] + packages)\n",
        "        logging.info(\"Package installation successful.\")\n",
        "    except subprocess.CalledProcessError as e:\n",
        "        logging.error(f\"Error installing packages: {e}\")\n",
        "        sys.exit(1)\n",
        "\n",
        "def execute_notebook_papermill(input_path, output_path, parameters=None):\n",
        "    \"\"\"\n",
        "    Executes a Jupyter notebook using Papermill and saves the output.\n",
        "    \"\"\"\n",
        "    try:\n",
        "        pm.execute_notebook(\n",
        "            input_path,\n",
        "            output_path,\n",
        "            parameters=parameters or {}\n",
        "        )\n",
        "        logging.info(f\"Executed and saved notebook to {output_path}\")\n",
        "    except Exception as e:\n",
        "        logging.error(f\"Error executing notebook {input_path}: {e}\")\n",
        "        raise\n",
        "\n",
        "def upload_notebook(bucket, source_file_path, destination_blob_name):\n",
        "    \"\"\"\n",
        "    Uploads a single notebook to GCS.\n",
        "    \"\"\"\n",
        "    try:\n",
        "        blob = bucket.blob(destination_blob_name)\n",
        "        blob.upload_from_filename(source_file_path)\n",
        "        logging.info(f\"Uploaded {source_file_path} to gs://{bucket.name}/{destination_blob_name}\")\n",
        "    except Exception as e:\n",
        "        logging.error(f\"Failed to upload {source_file_path}: {e}\")\n",
        "        raise\n",
        "\n",
        "# Parse command-line arguments\n",
        "# If running inside a Jupyter Notebook, you might need to adjust how arguments are parsed.\n",
        "# For simplicity, we'll set notebook_type directly.\n",
        "# notebook_type = parse_arguments().type\n",
        "notebook_type = \"weekly\"  # Replace with \"monthly\" as needed\n",
        "\n",
        "# Configuration\n",
        "BUCKET_NAME = 'sovai-mockingbird'  # Replace with your GCS bucket name\n",
        "FOLDER_PREFIX = f\"{notebook_type}/\"  # 'weekly/' or 'monthly/'\n",
        "\n",
        "# Initialize GCS client\n",
        "client = initialize_gcs_client()\n",
        "\n",
        "# Access the bucket\n",
        "try:\n",
        "    bucket = client.get_bucket(BUCKET_NAME)\n",
        "    logging.info(f\"Accessed bucket: {BUCKET_NAME}\")\n",
        "except Exception as e:\n",
        "    logging.error(f\"Error accessing bucket '{BUCKET_NAME}': {e}\")\n",
        "    sys.exit(1)\n",
        "\n",
        "# List notebooks to run\n",
        "notebooks = list_notebooks(bucket, FOLDER_PREFIX)\n",
        "\n",
        "if not notebooks:\n",
        "    logging.info(f\"No notebooks found in folder '{FOLDER_PREFIX}'. Exiting.\")\n",
        "    sys.exit(0)\n",
        "\n",
        "# Define required packages\n",
        "required_packages = [\n",
        "    \"sovai[full]\",  # Ensure this is the correct package name\n",
        "    \"datawrapper\",\n",
        "    \"papermill\"\n",
        "]\n",
        "\n",
        "# Install required packages\n",
        "install_packages(required_packages)\n",
        "\n",
        "# Create a temporary directory to store notebooks\n",
        "with tempfile.TemporaryDirectory() as temp_dir:\n",
        "    logging.info(f\"Created temporary directory at {temp_dir}\")\n",
        "\n",
        "    for notebook_blob_name in notebooks:\n",
        "        # Extract the notebook filename\n",
        "        notebook_filename = os.path.basename(notebook_blob_name)\n",
        "\n",
        "        # Define local paths\n",
        "        local_notebook_path = os.path.join(temp_dir, notebook_filename)\n",
        "        executed_notebook_path = os.path.join(temp_dir, f\"executed_{notebook_filename}\")\n",
        "\n",
        "        # Download the notebook\n",
        "        try:\n",
        "            download_notebook(bucket, notebook_blob_name, local_notebook_path)\n",
        "        except Exception:\n",
        "            logging.warning(f\"Skipping execution for {notebook_filename} due to download failure.\")\n",
        "            continue  # Skip to the next notebook\n",
        "\n",
        "        # Execute the notebook using Papermill\n",
        "        try:\n",
        "            execute_notebook_papermill(local_notebook_path, executed_notebook_path)\n",
        "        except Exception:\n",
        "            logging.warning(f\"Skipping upload for {notebook_filename} due to execution failure.\")\n",
        "            continue  # Skip to the next notebook\n",
        "\n",
        "        # Define the destination blob name for the executed notebook\n",
        "        executed_blob_name = os.path.join(FOLDER_PREFIX, f\"executed_{notebook_filename}\").replace(\"\\\\\", \"/\")\n",
        "\n",
        "        ## I don't for now, want to upload the executed notebook.\n",
        "        # # Upload the executed notebook back to GCS\n",
        "        # try:\n",
        "        #     upload_notebook(bucket, executed_notebook_path, executed_blob_name)\n",
        "        # except Exception:\n",
        "        #     logging.warning(f\"Failed to upload executed notebook for {notebook_filename}.\")\n",
        "        #     continue  # Continue with the next notebook\n",
        "\n",
        "        # Optionally, remove the local executed notebook\n",
        "        try:\n",
        "            os.remove(executed_notebook_path)\n",
        "            logging.info(f\"Removed local file {executed_notebook_path}\")\n",
        "        except Exception as e:\n",
        "            logging.error(f\"Failed to remove local file {executed_notebook_path}: {e}\")\n",
        "\n",
        "print(\"Notebook execution process completed.\")\n"
      ]
    },
    {
      "cell_type": "code",
      "execution_count": null,
      "id": "3365ed66-a3bb-4722-a57f-c4876c851702",
      "metadata": {
        "tags": [],
        "id": "3365ed66-a3bb-4722-a57f-c4876c851702",
        "outputId": "75ca6e9d-ae21-4eff-8f07-4e0c1ab62694",
        "colab": {
          "referenced_widgets": [
            "99ebdbd94efc465880bd8da617a8dada",
            "cc78cfb35f3d4ecd8a494edbab125591",
            "54d2d1ced3b04ca5b8f878f949b372cc",
            "f00944aaeae74cd4b9cad9cff34ffcae",
            "299ea33703044790999a1237f4ff66e5",
            "0ec954240a16414db45cd4fcf05cc186",
            "9f20a29432c64b74b45f323e8a855d39",
            "d2d8e18dba69451b8a9dcc5554ef289f",
            "edd1e125bf19442cb07c7276da759e8c",
            "4cdd45fe93964687b5c7902e53564ec7",
            "c9f3e3fa7ac448f5a317d9d26d4c4f97",
            "f0710962877a4b1b9d5672c4fd52cf2b",
            "83166aa806e943a38c09593f2847dec8",
            "5d9a5334933e4b2aa0c9f92e914e3b73",
            "5349f60e6de443a4a594407c9da294c8",
            "4c2f4737d20c4902905938d4cf56baf2",
            "65183d462a1d4a51a0de97606e41b8a4",
            "3319f16569e247e58f5bf2eb7bc70415"
          ]
        }
      },
      "outputs": [
        {
          "name": "stdout",
          "output_type": "stream",
          "text": [
            "Requirement already satisfied: pip in /opt/conda/lib/python3.10/site-packages (24.3.1)\n",
            "Requirement already satisfied: setuptools in /opt/conda/lib/python3.10/site-packages (75.3.0)\n",
            "Collecting PyYAML\n",
            "  Using cached PyYAML-6.0.2-cp310-cp310-manylinux_2_17_x86_64.manylinux2014_x86_64.whl.metadata (2.1 kB)\n",
            "Using cached PyYAML-6.0.2-cp310-cp310-manylinux_2_17_x86_64.manylinux2014_x86_64.whl (751 kB)\n",
            "Installing collected packages: PyYAML\n",
            "Successfully installed PyYAML-6.0.2\n"
          ]
        },
        {
          "name": "stderr",
          "output_type": "stream",
          "text": [
            "\u001b[31mERROR: pip's dependency resolver does not currently take into account all the packages that are installed. This behaviour is the source of the following dependency conflicts.\n",
            "kfp 2.5.0 requires urllib3<2.0.0, but you have urllib3 2.2.1 which is incompatible.\n",
            "ydata-profiling 4.8.3 requires numpy<2,>=1.16.0, but you have numpy 2.0.2 which is incompatible.\u001b[0m\u001b[31m\n",
            "\u001b[0m"
          ]
        },
        {
          "name": "stdout",
          "output_type": "stream",
          "text": [
            "Requirement already satisfied: datawrapper in /opt/conda/lib/python3.10/site-packages (0.6.1)\n",
            "Requirement already satisfied: papermill in /opt/conda/lib/python3.10/site-packages (2.6.0)\n",
            "Requirement already satisfied: sovai[full] in /opt/conda/lib/python3.10/site-packages (0.2.33)\n",
            "Requirement already satisfied: boto3>=1.20 in /opt/conda/lib/python3.10/site-packages (from sovai[full]) (1.35.12)\n",
            "Requirement already satisfied: edgar-tool<2.0.0,>=1.3.3 in /opt/conda/lib/python3.10/site-packages (from sovai[full]) (1.3.3)\n",
            "Requirement already satisfied: joblib>=1.0 in /opt/conda/lib/python3.10/site-packages (from sovai[full]) (1.4.2)\n",
            "Requirement already satisfied: networkx<4.0,>=3.3 in /opt/conda/lib/python3.10/site-packages (from sovai[full]) (3.3)\n",
            "Requirement already satisfied: numpy>=1.20 in /opt/conda/lib/python3.10/site-packages (from sovai[full]) (2.0.2)\n",
            "Requirement already satisfied: pandas>=1.0 in /opt/conda/lib/python3.10/site-packages (from sovai[full]) (2.2.2)\n",
            "Requirement already satisfied: polars>=0.20.30 in /opt/conda/lib/python3.10/site-packages (from sovai[full]) (1.2.1)\n",
            "Requirement already satisfied: pyarrow>=5.0 in /opt/conda/lib/python3.10/site-packages (from sovai[full]) (17.0.0)\n",
            "Requirement already satisfied: python-dateutil>=2.8 in /opt/conda/lib/python3.10/site-packages (from sovai[full]) (2.9.0.post0)\n",
            "Requirement already satisfied: python-dotenv>=0.10 in /opt/conda/lib/python3.10/site-packages (from sovai[full]) (1.0.1)\n",
            "Requirement already satisfied: pyvis<0.4.0,>=0.3.2 in /opt/conda/lib/python3.10/site-packages (from sovai[full]) (0.3.2)\n",
            "Requirement already satisfied: rapidfuzz<4.0.0,>=3.9.7 in /opt/conda/lib/python3.10/site-packages (from sovai[full]) (3.9.7)\n",
            "Requirement already satisfied: requests>=2.20 in /opt/conda/lib/python3.10/site-packages (from sovai[full]) (2.32.3)\n",
            "Requirement already satisfied: seaborn<0.14.0,>=0.13.2 in /opt/conda/lib/python3.10/site-packages (from sovai[full]) (0.13.2)\n",
            "Requirement already satisfied: yachalk<0.2.0,>=0.1.6 in /opt/conda/lib/python3.10/site-packages (from sovai[full]) (0.1.6)\n",
            "Requirement already satisfied: dash>=2.0 in /opt/conda/lib/python3.10/site-packages (from sovai[full]) (2.18.1)\n",
            "Requirement already satisfied: dash-bootstrap-components>=1.6.0 in /opt/conda/lib/python3.10/site-packages (from sovai[full]) (1.6.0)\n",
            "Requirement already satisfied: great-tables>=0.9 in /opt/conda/lib/python3.10/site-packages (from sovai[full]) (0.13.0)\n",
            "Requirement already satisfied: ipywidgets>=8.1.3 in /opt/conda/lib/python3.10/site-packages (from sovai[full]) (8.1.3)\n",
            "Requirement already satisfied: lightgbm>=4.5.0 in /opt/conda/lib/python3.10/site-packages (from sovai[full]) (4.5.0)\n",
            "Requirement already satisfied: matplotlib>=3.0 in /opt/conda/lib/python3.10/site-packages (from sovai[full]) (3.8.4)\n",
            "Requirement already satisfied: mfles>=0.2 in /opt/conda/lib/python3.10/site-packages (from sovai[full]) (0.2.4)\n",
            "Requirement already satisfied: numba>=0.50 in /opt/conda/lib/python3.10/site-packages (from sovai[full]) (0.60.0)\n",
            "Requirement already satisfied: openai>=1.0 in /opt/conda/lib/python3.10/site-packages (from sovai[full]) (1.53.0)\n",
            "Requirement already satisfied: pexpect>=4.9.0 in /opt/conda/lib/python3.10/site-packages (from sovai[full]) (4.9.0)\n",
            "Requirement already satisfied: plotly>=5.0 in /opt/conda/lib/python3.10/site-packages (from sovai[full]) (5.22.0)\n",
            "Requirement already satisfied: polars-talib==0.1.3 in /opt/conda/lib/python3.10/site-packages (from sovai[full]) (0.1.3)\n",
            "Requirement already satisfied: ruptures>=1.0 in /opt/conda/lib/python3.10/site-packages (from sovai[full]) (1.1.9)\n",
            "Requirement already satisfied: scikit-learn>=1.0 in /opt/conda/lib/python3.10/site-packages (from sovai[full]) (1.5.0)\n",
            "Requirement already satisfied: scipy>=1.0 in /opt/conda/lib/python3.10/site-packages (from sovai[full]) (1.13.1)\n",
            "Requirement already satisfied: shap>=0.40 in /opt/conda/lib/python3.10/site-packages (from sovai[full]) (0.46.0)\n",
            "Requirement already satisfied: skfolio>=0.3 in /opt/conda/lib/python3.10/site-packages (from sovai[full]) (0.4.3)\n",
            "Requirement already satisfied: statsforecast>=1.0 in /opt/conda/lib/python3.10/site-packages (from sovai[full]) (1.7.8)\n",
            "Requirement already satisfied: tensorly>=0.6 in /opt/conda/lib/python3.10/site-packages (from sovai[full]) (0.8.1)\n",
            "Requirement already satisfied: importlib-metadata in /opt/conda/lib/python3.10/site-packages (from datawrapper) (7.0.0)\n",
            "Requirement already satisfied: rich in /opt/conda/lib/python3.10/site-packages (from datawrapper) (13.8.0)\n",
            "Requirement already satisfied: ipython in /opt/conda/lib/python3.10/site-packages (from datawrapper) (8.21.0)\n",
            "Requirement already satisfied: click in /opt/conda/lib/python3.10/site-packages (from papermill) (8.1.7)\n",
            "Requirement already satisfied: pyyaml in /opt/conda/lib/python3.10/site-packages (from papermill) (6.0.2)\n",
            "Requirement already satisfied: nbformat>=5.2.0 in /opt/conda/lib/python3.10/site-packages (from papermill) (5.10.4)\n",
            "Requirement already satisfied: nbclient>=0.2.0 in /opt/conda/lib/python3.10/site-packages (from papermill) (0.10.0)\n",
            "Requirement already satisfied: tqdm>=4.32.2 in /opt/conda/lib/python3.10/site-packages (from papermill) (4.66.5)\n",
            "Requirement already satisfied: entrypoints in /opt/conda/lib/python3.10/site-packages (from papermill) (0.4)\n",
            "Requirement already satisfied: tenacity>=5.0.2 in /opt/conda/lib/python3.10/site-packages (from papermill) (8.3.0)\n",
            "Requirement already satisfied: ansicolors in /opt/conda/lib/python3.10/site-packages (from papermill) (1.1.8)\n",
            "Requirement already satisfied: botocore<1.36.0,>=1.35.12 in /opt/conda/lib/python3.10/site-packages (from boto3>=1.20->sovai[full]) (1.35.12)\n",
            "Requirement already satisfied: jmespath<2.0.0,>=0.7.1 in /opt/conda/lib/python3.10/site-packages (from boto3>=1.20->sovai[full]) (1.0.1)\n",
            "Requirement already satisfied: s3transfer<0.11.0,>=0.10.0 in /opt/conda/lib/python3.10/site-packages (from boto3>=1.20->sovai[full]) (0.10.2)\n",
            "Requirement already satisfied: Flask<3.1,>=1.0.4 in /opt/conda/lib/python3.10/site-packages (from dash>=2.0->sovai[full]) (3.0.3)\n",
            "Requirement already satisfied: Werkzeug<3.1 in /opt/conda/lib/python3.10/site-packages (from dash>=2.0->sovai[full]) (3.0.6)\n",
            "Requirement already satisfied: dash-html-components==2.0.0 in /opt/conda/lib/python3.10/site-packages (from dash>=2.0->sovai[full]) (2.0.0)\n",
            "Requirement already satisfied: dash-core-components==2.0.0 in /opt/conda/lib/python3.10/site-packages (from dash>=2.0->sovai[full]) (2.0.0)\n",
            "Requirement already satisfied: dash-table==5.0.0 in /opt/conda/lib/python3.10/site-packages (from dash>=2.0->sovai[full]) (5.0.0)\n",
            "Requirement already satisfied: typing-extensions>=4.1.1 in /opt/conda/lib/python3.10/site-packages (from dash>=2.0->sovai[full]) (4.12.2)\n",
            "Requirement already satisfied: retrying in /opt/conda/lib/python3.10/site-packages (from dash>=2.0->sovai[full]) (1.3.4)\n",
            "Requirement already satisfied: nest-asyncio in /opt/conda/lib/python3.10/site-packages (from dash>=2.0->sovai[full]) (1.6.0)\n",
            "Requirement already satisfied: setuptools in /opt/conda/lib/python3.10/site-packages (from dash>=2.0->sovai[full]) (75.3.0)\n",
            "Requirement already satisfied: fire<0.6,>=0.5 in /opt/conda/lib/python3.10/site-packages (from edgar-tool<2.0.0,>=1.3.3->sovai[full]) (0.5.0)\n",
            "Requirement already satisfied: jsonlines<5.0,>=4.0 in /opt/conda/lib/python3.10/site-packages (from edgar-tool<2.0.0,>=1.3.3->sovai[full]) (4.0.0)\n",
            "Requirement already satisfied: xmltodict<0.14,>=0.13 in /opt/conda/lib/python3.10/site-packages (from edgar-tool<2.0.0,>=1.3.3->sovai[full]) (0.13.0)\n",
            "Requirement already satisfied: commonmark>=0.9.1 in /opt/conda/lib/python3.10/site-packages (from great-tables>=0.9->sovai[full]) (0.9.1)\n",
            "Requirement already satisfied: htmltools>=0.4.1 in /opt/conda/lib/python3.10/site-packages (from great-tables>=0.9->sovai[full]) (0.6.0)\n",
            "Requirement already satisfied: Babel>=2.13.1 in /opt/conda/lib/python3.10/site-packages (from great-tables>=0.9->sovai[full]) (2.15.0)\n",
            "Requirement already satisfied: importlib-resources in /opt/conda/lib/python3.10/site-packages (from great-tables>=0.9->sovai[full]) (6.4.0)\n",
            "Requirement already satisfied: comm>=0.1.3 in /opt/conda/lib/python3.10/site-packages (from ipywidgets>=8.1.3->sovai[full]) (0.2.2)\n",
            "Requirement already satisfied: traitlets>=4.3.1 in /opt/conda/lib/python3.10/site-packages (from ipywidgets>=8.1.3->sovai[full]) (5.14.3)\n",
            "Requirement already satisfied: widgetsnbextension~=4.0.11 in /opt/conda/lib/python3.10/site-packages (from ipywidgets>=8.1.3->sovai[full]) (4.0.11)\n",
            "Requirement already satisfied: jupyterlab-widgets~=3.0.11 in /opt/conda/lib/python3.10/site-packages (from ipywidgets>=8.1.3->sovai[full]) (3.0.11)\n",
            "Requirement already satisfied: decorator in /opt/conda/lib/python3.10/site-packages (from ipython->datawrapper) (5.1.1)\n",
            "Requirement already satisfied: jedi>=0.16 in /opt/conda/lib/python3.10/site-packages (from ipython->datawrapper) (0.19.1)\n",
            "Requirement already satisfied: matplotlib-inline in /opt/conda/lib/python3.10/site-packages (from ipython->datawrapper) (0.1.7)\n",
            "Requirement already satisfied: prompt-toolkit<3.1.0,>=3.0.41 in /opt/conda/lib/python3.10/site-packages (from ipython->datawrapper) (3.0.47)\n",
            "Requirement already satisfied: pygments>=2.4.0 in /opt/conda/lib/python3.10/site-packages (from ipython->datawrapper) (2.18.0)\n",
            "Requirement already satisfied: stack-data in /opt/conda/lib/python3.10/site-packages (from ipython->datawrapper) (0.6.2)\n",
            "Requirement already satisfied: exceptiongroup in /opt/conda/lib/python3.10/site-packages (from ipython->datawrapper) (1.2.1)\n",
            "Requirement already satisfied: contourpy>=1.0.1 in /opt/conda/lib/python3.10/site-packages (from matplotlib>=3.0->sovai[full]) (1.2.1)\n",
            "Requirement already satisfied: cycler>=0.10 in /opt/conda/lib/python3.10/site-packages (from matplotlib>=3.0->sovai[full]) (0.12.1)\n",
            "Requirement already satisfied: fonttools>=4.22.0 in /opt/conda/lib/python3.10/site-packages (from matplotlib>=3.0->sovai[full]) (4.53.0)\n",
            "Requirement already satisfied: kiwisolver>=1.3.1 in /opt/conda/lib/python3.10/site-packages (from matplotlib>=3.0->sovai[full]) (1.4.5)\n",
            "Requirement already satisfied: packaging>=20.0 in /opt/conda/lib/python3.10/site-packages (from matplotlib>=3.0->sovai[full]) (24.1)\n",
            "Requirement already satisfied: pillow>=8 in /opt/conda/lib/python3.10/site-packages (from matplotlib>=3.0->sovai[full]) (10.4.0)\n",
            "Requirement already satisfied: pyparsing>=2.3.1 in /opt/conda/lib/python3.10/site-packages (from matplotlib>=3.0->sovai[full]) (3.1.2)\n",
            "Requirement already satisfied: jupyter-client>=6.1.12 in /opt/conda/lib/python3.10/site-packages (from nbclient>=0.2.0->papermill) (7.4.9)\n",
            "Requirement already satisfied: jupyter-core!=5.0.*,>=4.12 in /opt/conda/lib/python3.10/site-packages (from nbclient>=0.2.0->papermill) (5.7.2)\n",
            "Requirement already satisfied: fastjsonschema>=2.15 in /opt/conda/lib/python3.10/site-packages (from nbformat>=5.2.0->papermill) (2.19.1)\n",
            "Requirement already satisfied: jsonschema>=2.6 in /opt/conda/lib/python3.10/site-packages (from nbformat>=5.2.0->papermill) (4.22.0)\n",
            "Requirement already satisfied: llvmlite<0.44,>=0.43.0dev0 in /opt/conda/lib/python3.10/site-packages (from numba>=0.50->sovai[full]) (0.43.0)\n",
            "Requirement already satisfied: anyio<5,>=3.5.0 in /opt/conda/lib/python3.10/site-packages (from openai>=1.0->sovai[full]) (4.4.0)\n",
            "Requirement already satisfied: distro<2,>=1.7.0 in /opt/conda/lib/python3.10/site-packages (from openai>=1.0->sovai[full]) (1.9.0)\n",
            "Requirement already satisfied: httpx<1,>=0.23.0 in /opt/conda/lib/python3.10/site-packages (from openai>=1.0->sovai[full]) (0.27.2)\n",
            "Requirement already satisfied: jiter<1,>=0.4.0 in /opt/conda/lib/python3.10/site-packages (from openai>=1.0->sovai[full]) (0.6.1)\n",
            "Requirement already satisfied: pydantic<3,>=1.9.0 in /opt/conda/lib/python3.10/site-packages (from openai>=1.0->sovai[full]) (2.9.0)\n",
            "Requirement already satisfied: sniffio in /opt/conda/lib/python3.10/site-packages (from openai>=1.0->sovai[full]) (1.3.1)\n",
            "Requirement already satisfied: pytz>=2020.1 in /opt/conda/lib/python3.10/site-packages (from pandas>=1.0->sovai[full]) (2024.1)\n",
            "Requirement already satisfied: tzdata>=2022.7 in /opt/conda/lib/python3.10/site-packages (from pandas>=1.0->sovai[full]) (2024.1)\n",
            "Requirement already satisfied: ptyprocess>=0.5 in /opt/conda/lib/python3.10/site-packages (from pexpect>=4.9.0->sovai[full]) (0.7.0)\n",
            "Requirement already satisfied: six>=1.5 in /opt/conda/lib/python3.10/site-packages (from python-dateutil>=2.8->sovai[full]) (1.16.0)\n",
            "Requirement already satisfied: jinja2>=2.9.6 in /opt/conda/lib/python3.10/site-packages (from pyvis<0.4.0,>=0.3.2->sovai[full]) (3.1.4)\n",
            "Requirement already satisfied: jsonpickle>=1.4.1 in /opt/conda/lib/python3.10/site-packages (from pyvis<0.4.0,>=0.3.2->sovai[full]) (3.3.0)\n",
            "Requirement already satisfied: charset-normalizer<4,>=2 in /opt/conda/lib/python3.10/site-packages (from requests>=2.20->sovai[full]) (3.3.2)\n",
            "Requirement already satisfied: idna<4,>=2.5 in /opt/conda/lib/python3.10/site-packages (from requests>=2.20->sovai[full]) (3.8)\n",
            "Requirement already satisfied: urllib3<3,>=1.21.1 in /opt/conda/lib/python3.10/site-packages (from requests>=2.20->sovai[full]) (2.2.1)\n",
            "Requirement already satisfied: certifi>=2017.4.17 in /opt/conda/lib/python3.10/site-packages (from requests>=2.20->sovai[full]) (2024.8.30)\n",
            "Requirement already satisfied: threadpoolctl>=3.1.0 in /opt/conda/lib/python3.10/site-packages (from scikit-learn>=1.0->sovai[full]) (3.5.0)\n",
            "Requirement already satisfied: slicer==0.0.8 in /opt/conda/lib/python3.10/site-packages (from shap>=0.40->sovai[full]) (0.0.8)\n",
            "Requirement already satisfied: cloudpickle in /opt/conda/lib/python3.10/site-packages (from shap>=0.40->sovai[full]) (3.0.0)\n",
            "Requirement already satisfied: cvxpy>=1.4.1 in /opt/conda/lib/python3.10/site-packages (from skfolio>=0.3->sovai[full]) (1.5.3)\n",
            "Requirement already satisfied: coreforecast>=0.0.12 in /opt/conda/lib/python3.10/site-packages (from statsforecast>=1.0->sovai[full]) (0.0.13.1)\n",
            "Requirement already satisfied: statsmodels>=0.13.2 in /opt/conda/lib/python3.10/site-packages (from statsforecast>=1.0->sovai[full]) (0.14.2)\n",
            "Requirement already satisfied: fugue>=0.8.1 in /opt/conda/lib/python3.10/site-packages (from statsforecast>=1.0->sovai[full]) (0.9.1)\n",
            "Requirement already satisfied: utilsforecast>=0.1.4 in /opt/conda/lib/python3.10/site-packages (from statsforecast>=1.0->sovai[full]) (0.2.7)\n",
            "Requirement already satisfied: zipp>=0.5 in /opt/conda/lib/python3.10/site-packages (from importlib-metadata->datawrapper) (3.19.2)\n",
            "Requirement already satisfied: markdown-it-py>=2.2.0 in /opt/conda/lib/python3.10/site-packages (from rich->datawrapper) (3.0.0)\n",
            "Requirement already satisfied: osqp>=0.6.2 in /opt/conda/lib/python3.10/site-packages (from cvxpy>=1.4.1->skfolio>=0.3->sovai[full]) (0.6.7.post3)\n",
            "Requirement already satisfied: ecos>=2 in /opt/conda/lib/python3.10/site-packages (from cvxpy>=1.4.1->skfolio>=0.3->sovai[full]) (2.0.14)\n",
            "Requirement already satisfied: clarabel>=0.5.0 in /opt/conda/lib/python3.10/site-packages (from cvxpy>=1.4.1->skfolio>=0.3->sovai[full]) (0.9.0)\n",
            "Requirement already satisfied: scs>=3.2.4.post1 in /opt/conda/lib/python3.10/site-packages (from cvxpy>=1.4.1->skfolio>=0.3->sovai[full]) (3.2.7)\n",
            "Requirement already satisfied: termcolor in /opt/conda/lib/python3.10/site-packages (from fire<0.6,>=0.5->edgar-tool<2.0.0,>=1.3.3->sovai[full]) (2.5.0)\n",
            "Requirement already satisfied: itsdangerous>=2.1.2 in /opt/conda/lib/python3.10/site-packages (from Flask<3.1,>=1.0.4->dash>=2.0->sovai[full]) (2.2.0)\n",
            "Requirement already satisfied: blinker>=1.6.2 in /opt/conda/lib/python3.10/site-packages (from Flask<3.1,>=1.0.4->dash>=2.0->sovai[full]) (1.8.2)\n",
            "Requirement already satisfied: triad>=0.9.7 in /opt/conda/lib/python3.10/site-packages (from fugue>=0.8.1->statsforecast>=1.0->sovai[full]) (0.9.8)\n",
            "Requirement already satisfied: adagio>=0.2.4 in /opt/conda/lib/python3.10/site-packages (from fugue>=0.8.1->statsforecast>=1.0->sovai[full]) (0.2.6)\n",
            "Requirement already satisfied: httpcore==1.* in /opt/conda/lib/python3.10/site-packages (from httpx<1,>=0.23.0->openai>=1.0->sovai[full]) (1.0.5)\n",
            "Requirement already satisfied: h11<0.15,>=0.13 in /opt/conda/lib/python3.10/site-packages (from httpcore==1.*->httpx<1,>=0.23.0->openai>=1.0->sovai[full]) (0.14.0)\n",
            "Requirement already satisfied: parso<0.9.0,>=0.8.3 in /opt/conda/lib/python3.10/site-packages (from jedi>=0.16->ipython->datawrapper) (0.8.4)\n",
            "Requirement already satisfied: MarkupSafe>=2.0 in /opt/conda/lib/python3.10/site-packages (from jinja2>=2.9.6->pyvis<0.4.0,>=0.3.2->sovai[full]) (2.1.5)\n",
            "Requirement already satisfied: attrs>=19.2.0 in /opt/conda/lib/python3.10/site-packages (from jsonlines<5.0,>=4.0->edgar-tool<2.0.0,>=1.3.3->sovai[full]) (24.2.0)\n",
            "Requirement already satisfied: jsonschema-specifications>=2023.03.6 in /opt/conda/lib/python3.10/site-packages (from jsonschema>=2.6->nbformat>=5.2.0->papermill) (2023.12.1)\n",
            "Requirement already satisfied: referencing>=0.28.4 in /opt/conda/lib/python3.10/site-packages (from jsonschema>=2.6->nbformat>=5.2.0->papermill) (0.35.1)\n",
            "Requirement already satisfied: rpds-py>=0.7.1 in /opt/conda/lib/python3.10/site-packages (from jsonschema>=2.6->nbformat>=5.2.0->papermill) (0.18.1)\n",
            "Requirement already satisfied: pyzmq>=23.0 in /opt/conda/lib/python3.10/site-packages (from jupyter-client>=6.1.12->nbclient>=0.2.0->papermill) (26.0.3)\n",
            "Requirement already satisfied: tornado>=6.2 in /opt/conda/lib/python3.10/site-packages (from jupyter-client>=6.1.12->nbclient>=0.2.0->papermill) (6.4.1)\n",
            "Requirement already satisfied: platformdirs>=2.5 in /opt/conda/lib/python3.10/site-packages (from jupyter-core!=5.0.*,>=4.12->nbclient>=0.2.0->papermill) (4.2.2)\n",
            "Requirement already satisfied: mdurl~=0.1 in /opt/conda/lib/python3.10/site-packages (from markdown-it-py>=2.2.0->rich->datawrapper) (0.1.2)\n",
            "Requirement already satisfied: wcwidth in /opt/conda/lib/python3.10/site-packages (from prompt-toolkit<3.1.0,>=3.0.41->ipython->datawrapper) (0.2.13)\n",
            "Requirement already satisfied: annotated-types>=0.4.0 in /opt/conda/lib/python3.10/site-packages (from pydantic<3,>=1.9.0->openai>=1.0->sovai[full]) (0.7.0)\n",
            "Requirement already satisfied: pydantic-core==2.23.2 in /opt/conda/lib/python3.10/site-packages (from pydantic<3,>=1.9.0->openai>=1.0->sovai[full]) (2.23.2)\n",
            "Requirement already satisfied: patsy>=0.5.6 in /opt/conda/lib/python3.10/site-packages (from statsmodels>=0.13.2->statsforecast>=1.0->sovai[full]) (0.5.6)\n",
            "Requirement already satisfied: executing>=1.2.0 in /opt/conda/lib/python3.10/site-packages (from stack-data->ipython->datawrapper) (2.0.1)\n",
            "Requirement already satisfied: asttokens>=2.1.0 in /opt/conda/lib/python3.10/site-packages (from stack-data->ipython->datawrapper) (2.4.1)\n",
            "Requirement already satisfied: pure-eval in /opt/conda/lib/python3.10/site-packages (from stack-data->ipython->datawrapper) (0.2.2)\n",
            "Requirement already satisfied: qdldl in /opt/conda/lib/python3.10/site-packages (from osqp>=0.6.2->cvxpy>=1.4.1->skfolio>=0.3->sovai[full]) (0.1.7.post4)\n",
            "Requirement already satisfied: fsspec>=2022.5.0 in /opt/conda/lib/python3.10/site-packages (from triad>=0.9.7->fugue>=0.8.1->statsforecast>=1.0->sovai[full]) (2024.6.1)\n",
            "Requirement already satisfied: fs in /opt/conda/lib/python3.10/site-packages (from triad>=0.9.7->fugue>=0.8.1->statsforecast>=1.0->sovai[full]) (2.4.16)\n",
            "Requirement already satisfied: appdirs~=1.4.3 in /opt/conda/lib/python3.10/site-packages (from fs->triad>=0.9.7->fugue>=0.8.1->statsforecast>=1.0->sovai[full]) (1.4.4)\n"
          ]
        },
        {
          "data": {
            "application/vnd.jupyter.widget-view+json": {
              "model_id": "99ebdbd94efc465880bd8da617a8dada",
              "version_major": 2,
              "version_minor": 0
            },
            "text/plain": [
              "Executing:   0%|          | 0/19 [00:00<?, ?cell/s]"
            ]
          },
          "metadata": {},
          "output_type": "display_data"
        },
        {
          "name": "stderr",
          "output_type": "stream",
          "text": [
            "[IPKernelApp] WARNING | Error in loading extension: beatrix_jupyterlab\n",
            "Check your config files in /home/jupyter/.ipython/profile_default\n",
            "Traceback (most recent call last):\n",
            "  File \"/opt/conda/lib/python3.10/site-packages/IPython/core/shellapp.py\", line 282, in init_extensions\n",
            "    self.shell.extension_manager.load_extension(ext)\n",
            "  File \"/opt/conda/lib/python3.10/site-packages/IPython/core/extensions.py\", line 62, in load_extension\n",
            "    return self._load_extension(module_str)\n",
            "  File \"/opt/conda/lib/python3.10/site-packages/IPython/core/extensions.py\", line 77, in _load_extension\n",
            "    mod = import_module(module_str)\n",
            "  File \"/opt/conda/lib/python3.10/importlib/__init__.py\", line 126, in import_module\n",
            "    return _bootstrap._gcd_import(name[level:], package, level)\n",
            "  File \"<frozen importlib._bootstrap>\", line 1050, in _gcd_import\n",
            "  File \"<frozen importlib._bootstrap>\", line 1027, in _find_and_load\n",
            "  File \"<frozen importlib._bootstrap>\", line 1004, in _find_and_load_unlocked\n",
            "ModuleNotFoundError: No module named 'beatrix_jupyterlab'\n"
          ]
        },
        {
          "data": {
            "application/vnd.jupyter.widget-view+json": {
              "model_id": "cc78cfb35f3d4ecd8a494edbab125591",
              "version_major": 2,
              "version_minor": 0
            },
            "text/plain": [
              "Executing:   0%|          | 0/7 [00:00<?, ?cell/s]"
            ]
          },
          "metadata": {},
          "output_type": "display_data"
        },
        {
          "name": "stderr",
          "output_type": "stream",
          "text": [
            "[IPKernelApp] WARNING | Error in loading extension: beatrix_jupyterlab\n",
            "Check your config files in /home/jupyter/.ipython/profile_default\n",
            "Traceback (most recent call last):\n",
            "  File \"/opt/conda/lib/python3.10/site-packages/IPython/core/shellapp.py\", line 282, in init_extensions\n",
            "    self.shell.extension_manager.load_extension(ext)\n",
            "  File \"/opt/conda/lib/python3.10/site-packages/IPython/core/extensions.py\", line 62, in load_extension\n",
            "    return self._load_extension(module_str)\n",
            "  File \"/opt/conda/lib/python3.10/site-packages/IPython/core/extensions.py\", line 77, in _load_extension\n",
            "    mod = import_module(module_str)\n",
            "  File \"/opt/conda/lib/python3.10/importlib/__init__.py\", line 126, in import_module\n",
            "    return _bootstrap._gcd_import(name[level:], package, level)\n",
            "  File \"<frozen importlib._bootstrap>\", line 1050, in _gcd_import\n",
            "  File \"<frozen importlib._bootstrap>\", line 1027, in _find_and_load\n",
            "  File \"<frozen importlib._bootstrap>\", line 1004, in _find_and_load_unlocked\n",
            "ModuleNotFoundError: No module named 'beatrix_jupyterlab'\n"
          ]
        },
        {
          "data": {
            "application/vnd.jupyter.widget-view+json": {
              "model_id": "54d2d1ced3b04ca5b8f878f949b372cc",
              "version_major": 2,
              "version_minor": 0
            },
            "text/plain": [
              "Executing:   0%|          | 0/6 [00:00<?, ?cell/s]"
            ]
          },
          "metadata": {},
          "output_type": "display_data"
        },
        {
          "name": "stderr",
          "output_type": "stream",
          "text": [
            "[IPKernelApp] WARNING | Error in loading extension: beatrix_jupyterlab\n",
            "Check your config files in /home/jupyter/.ipython/profile_default\n",
            "Traceback (most recent call last):\n",
            "  File \"/opt/conda/lib/python3.10/site-packages/IPython/core/shellapp.py\", line 282, in init_extensions\n",
            "    self.shell.extension_manager.load_extension(ext)\n",
            "  File \"/opt/conda/lib/python3.10/site-packages/IPython/core/extensions.py\", line 62, in load_extension\n",
            "    return self._load_extension(module_str)\n",
            "  File \"/opt/conda/lib/python3.10/site-packages/IPython/core/extensions.py\", line 77, in _load_extension\n",
            "    mod = import_module(module_str)\n",
            "  File \"/opt/conda/lib/python3.10/importlib/__init__.py\", line 126, in import_module\n",
            "    return _bootstrap._gcd_import(name[level:], package, level)\n",
            "  File \"<frozen importlib._bootstrap>\", line 1050, in _gcd_import\n",
            "  File \"<frozen importlib._bootstrap>\", line 1027, in _find_and_load\n",
            "  File \"<frozen importlib._bootstrap>\", line 1004, in _find_and_load_unlocked\n",
            "ModuleNotFoundError: No module named 'beatrix_jupyterlab'\n"
          ]
        },
        {
          "data": {
            "application/vnd.jupyter.widget-view+json": {
              "model_id": "f00944aaeae74cd4b9cad9cff34ffcae",
              "version_major": 2,
              "version_minor": 0
            },
            "text/plain": [
              "Executing:   0%|          | 0/14 [00:00<?, ?cell/s]"
            ]
          },
          "metadata": {},
          "output_type": "display_data"
        },
        {
          "name": "stderr",
          "output_type": "stream",
          "text": [
            "[IPKernelApp] WARNING | Error in loading extension: beatrix_jupyterlab\n",
            "Check your config files in /home/jupyter/.ipython/profile_default\n",
            "Traceback (most recent call last):\n",
            "  File \"/opt/conda/lib/python3.10/site-packages/IPython/core/shellapp.py\", line 282, in init_extensions\n",
            "    self.shell.extension_manager.load_extension(ext)\n",
            "  File \"/opt/conda/lib/python3.10/site-packages/IPython/core/extensions.py\", line 62, in load_extension\n",
            "    return self._load_extension(module_str)\n",
            "  File \"/opt/conda/lib/python3.10/site-packages/IPython/core/extensions.py\", line 77, in _load_extension\n",
            "    mod = import_module(module_str)\n",
            "  File \"/opt/conda/lib/python3.10/importlib/__init__.py\", line 126, in import_module\n",
            "    return _bootstrap._gcd_import(name[level:], package, level)\n",
            "  File \"<frozen importlib._bootstrap>\", line 1050, in _gcd_import\n",
            "  File \"<frozen importlib._bootstrap>\", line 1027, in _find_and_load\n",
            "  File \"<frozen importlib._bootstrap>\", line 1004, in _find_and_load_unlocked\n",
            "ModuleNotFoundError: No module named 'beatrix_jupyterlab'\n"
          ]
        },
        {
          "data": {
            "application/vnd.jupyter.widget-view+json": {
              "model_id": "299ea33703044790999a1237f4ff66e5",
              "version_major": 2,
              "version_minor": 0
            },
            "text/plain": [
              "Executing:   0%|          | 0/11 [00:00<?, ?cell/s]"
            ]
          },
          "metadata": {},
          "output_type": "display_data"
        },
        {
          "name": "stderr",
          "output_type": "stream",
          "text": [
            "[IPKernelApp] WARNING | Error in loading extension: beatrix_jupyterlab\n",
            "Check your config files in /home/jupyter/.ipython/profile_default\n",
            "Traceback (most recent call last):\n",
            "  File \"/opt/conda/lib/python3.10/site-packages/IPython/core/shellapp.py\", line 282, in init_extensions\n",
            "    self.shell.extension_manager.load_extension(ext)\n",
            "  File \"/opt/conda/lib/python3.10/site-packages/IPython/core/extensions.py\", line 62, in load_extension\n",
            "    return self._load_extension(module_str)\n",
            "  File \"/opt/conda/lib/python3.10/site-packages/IPython/core/extensions.py\", line 77, in _load_extension\n",
            "    mod = import_module(module_str)\n",
            "  File \"/opt/conda/lib/python3.10/importlib/__init__.py\", line 126, in import_module\n",
            "    return _bootstrap._gcd_import(name[level:], package, level)\n",
            "  File \"<frozen importlib._bootstrap>\", line 1050, in _gcd_import\n",
            "  File \"<frozen importlib._bootstrap>\", line 1027, in _find_and_load\n",
            "  File \"<frozen importlib._bootstrap>\", line 1004, in _find_and_load_unlocked\n",
            "ModuleNotFoundError: No module named 'beatrix_jupyterlab'\n"
          ]
        },
        {
          "data": {
            "application/vnd.jupyter.widget-view+json": {
              "model_id": "0ec954240a16414db45cd4fcf05cc186",
              "version_major": 2,
              "version_minor": 0
            },
            "text/plain": [
              "Executing:   0%|          | 0/12 [00:00<?, ?cell/s]"
            ]
          },
          "metadata": {},
          "output_type": "display_data"
        },
        {
          "name": "stderr",
          "output_type": "stream",
          "text": [
            "[IPKernelApp] WARNING | Error in loading extension: beatrix_jupyterlab\n",
            "Check your config files in /home/jupyter/.ipython/profile_default\n",
            "Traceback (most recent call last):\n",
            "  File \"/opt/conda/lib/python3.10/site-packages/IPython/core/shellapp.py\", line 282, in init_extensions\n",
            "    self.shell.extension_manager.load_extension(ext)\n",
            "  File \"/opt/conda/lib/python3.10/site-packages/IPython/core/extensions.py\", line 62, in load_extension\n",
            "    return self._load_extension(module_str)\n",
            "  File \"/opt/conda/lib/python3.10/site-packages/IPython/core/extensions.py\", line 77, in _load_extension\n",
            "    mod = import_module(module_str)\n",
            "  File \"/opt/conda/lib/python3.10/importlib/__init__.py\", line 126, in import_module\n",
            "    return _bootstrap._gcd_import(name[level:], package, level)\n",
            "  File \"<frozen importlib._bootstrap>\", line 1050, in _gcd_import\n",
            "  File \"<frozen importlib._bootstrap>\", line 1027, in _find_and_load\n",
            "  File \"<frozen importlib._bootstrap>\", line 1004, in _find_and_load_unlocked\n",
            "ModuleNotFoundError: No module named 'beatrix_jupyterlab'\n"
          ]
        },
        {
          "data": {
            "application/vnd.jupyter.widget-view+json": {
              "model_id": "9f20a29432c64b74b45f323e8a855d39",
              "version_major": 2,
              "version_minor": 0
            },
            "text/plain": [
              "Executing:   0%|          | 0/14 [00:00<?, ?cell/s]"
            ]
          },
          "metadata": {},
          "output_type": "display_data"
        },
        {
          "name": "stderr",
          "output_type": "stream",
          "text": [
            "[IPKernelApp] WARNING | Error in loading extension: beatrix_jupyterlab\n",
            "Check your config files in /home/jupyter/.ipython/profile_default\n",
            "Traceback (most recent call last):\n",
            "  File \"/opt/conda/lib/python3.10/site-packages/IPython/core/shellapp.py\", line 282, in init_extensions\n",
            "    self.shell.extension_manager.load_extension(ext)\n",
            "  File \"/opt/conda/lib/python3.10/site-packages/IPython/core/extensions.py\", line 62, in load_extension\n",
            "    return self._load_extension(module_str)\n",
            "  File \"/opt/conda/lib/python3.10/site-packages/IPython/core/extensions.py\", line 77, in _load_extension\n",
            "    mod = import_module(module_str)\n",
            "  File \"/opt/conda/lib/python3.10/importlib/__init__.py\", line 126, in import_module\n",
            "    return _bootstrap._gcd_import(name[level:], package, level)\n",
            "  File \"<frozen importlib._bootstrap>\", line 1050, in _gcd_import\n",
            "  File \"<frozen importlib._bootstrap>\", line 1027, in _find_and_load\n",
            "  File \"<frozen importlib._bootstrap>\", line 1004, in _find_and_load_unlocked\n",
            "ModuleNotFoundError: No module named 'beatrix_jupyterlab'\n"
          ]
        },
        {
          "data": {
            "application/vnd.jupyter.widget-view+json": {
              "model_id": "d2d8e18dba69451b8a9dcc5554ef289f",
              "version_major": 2,
              "version_minor": 0
            },
            "text/plain": [
              "Executing:   0%|          | 0/21 [00:00<?, ?cell/s]"
            ]
          },
          "metadata": {},
          "output_type": "display_data"
        },
        {
          "name": "stderr",
          "output_type": "stream",
          "text": [
            "[IPKernelApp] WARNING | Error in loading extension: beatrix_jupyterlab\n",
            "Check your config files in /home/jupyter/.ipython/profile_default\n",
            "Traceback (most recent call last):\n",
            "  File \"/opt/conda/lib/python3.10/site-packages/IPython/core/shellapp.py\", line 282, in init_extensions\n",
            "    self.shell.extension_manager.load_extension(ext)\n",
            "  File \"/opt/conda/lib/python3.10/site-packages/IPython/core/extensions.py\", line 62, in load_extension\n",
            "    return self._load_extension(module_str)\n",
            "  File \"/opt/conda/lib/python3.10/site-packages/IPython/core/extensions.py\", line 77, in _load_extension\n",
            "    mod = import_module(module_str)\n",
            "  File \"/opt/conda/lib/python3.10/importlib/__init__.py\", line 126, in import_module\n",
            "    return _bootstrap._gcd_import(name[level:], package, level)\n",
            "  File \"<frozen importlib._bootstrap>\", line 1050, in _gcd_import\n",
            "  File \"<frozen importlib._bootstrap>\", line 1027, in _find_and_load\n",
            "  File \"<frozen importlib._bootstrap>\", line 1004, in _find_and_load_unlocked\n",
            "ModuleNotFoundError: No module named 'beatrix_jupyterlab'\n"
          ]
        },
        {
          "data": {
            "application/vnd.jupyter.widget-view+json": {
              "model_id": "edd1e125bf19442cb07c7276da759e8c",
              "version_major": 2,
              "version_minor": 0
            },
            "text/plain": [
              "Executing:   0%|          | 0/12 [00:00<?, ?cell/s]"
            ]
          },
          "metadata": {},
          "output_type": "display_data"
        },
        {
          "name": "stderr",
          "output_type": "stream",
          "text": [
            "[IPKernelApp] WARNING | Error in loading extension: beatrix_jupyterlab\n",
            "Check your config files in /home/jupyter/.ipython/profile_default\n",
            "Traceback (most recent call last):\n",
            "  File \"/opt/conda/lib/python3.10/site-packages/IPython/core/shellapp.py\", line 282, in init_extensions\n",
            "    self.shell.extension_manager.load_extension(ext)\n",
            "  File \"/opt/conda/lib/python3.10/site-packages/IPython/core/extensions.py\", line 62, in load_extension\n",
            "    return self._load_extension(module_str)\n",
            "  File \"/opt/conda/lib/python3.10/site-packages/IPython/core/extensions.py\", line 77, in _load_extension\n",
            "    mod = import_module(module_str)\n",
            "  File \"/opt/conda/lib/python3.10/importlib/__init__.py\", line 126, in import_module\n",
            "    return _bootstrap._gcd_import(name[level:], package, level)\n",
            "  File \"<frozen importlib._bootstrap>\", line 1050, in _gcd_import\n",
            "  File \"<frozen importlib._bootstrap>\", line 1027, in _find_and_load\n",
            "  File \"<frozen importlib._bootstrap>\", line 1004, in _find_and_load_unlocked\n",
            "ModuleNotFoundError: No module named 'beatrix_jupyterlab'\n"
          ]
        },
        {
          "data": {
            "application/vnd.jupyter.widget-view+json": {
              "model_id": "4cdd45fe93964687b5c7902e53564ec7",
              "version_major": 2,
              "version_minor": 0
            },
            "text/plain": [
              "Executing:   0%|          | 0/10 [00:00<?, ?cell/s]"
            ]
          },
          "metadata": {},
          "output_type": "display_data"
        },
        {
          "name": "stderr",
          "output_type": "stream",
          "text": [
            "[IPKernelApp] WARNING | Error in loading extension: beatrix_jupyterlab\n",
            "Check your config files in /home/jupyter/.ipython/profile_default\n",
            "Traceback (most recent call last):\n",
            "  File \"/opt/conda/lib/python3.10/site-packages/IPython/core/shellapp.py\", line 282, in init_extensions\n",
            "    self.shell.extension_manager.load_extension(ext)\n",
            "  File \"/opt/conda/lib/python3.10/site-packages/IPython/core/extensions.py\", line 62, in load_extension\n",
            "    return self._load_extension(module_str)\n",
            "  File \"/opt/conda/lib/python3.10/site-packages/IPython/core/extensions.py\", line 77, in _load_extension\n",
            "    mod = import_module(module_str)\n",
            "  File \"/opt/conda/lib/python3.10/importlib/__init__.py\", line 126, in import_module\n",
            "    return _bootstrap._gcd_import(name[level:], package, level)\n",
            "  File \"<frozen importlib._bootstrap>\", line 1050, in _gcd_import\n",
            "  File \"<frozen importlib._bootstrap>\", line 1027, in _find_and_load\n",
            "  File \"<frozen importlib._bootstrap>\", line 1004, in _find_and_load_unlocked\n",
            "ModuleNotFoundError: No module named 'beatrix_jupyterlab'\n"
          ]
        },
        {
          "data": {
            "application/vnd.jupyter.widget-view+json": {
              "model_id": "c9f3e3fa7ac448f5a317d9d26d4c4f97",
              "version_major": 2,
              "version_minor": 0
            },
            "text/plain": [
              "Executing:   0%|          | 0/14 [00:00<?, ?cell/s]"
            ]
          },
          "metadata": {},
          "output_type": "display_data"
        },
        {
          "name": "stderr",
          "output_type": "stream",
          "text": [
            "[IPKernelApp] WARNING | Error in loading extension: beatrix_jupyterlab\n",
            "Check your config files in /home/jupyter/.ipython/profile_default\n",
            "Traceback (most recent call last):\n",
            "  File \"/opt/conda/lib/python3.10/site-packages/IPython/core/shellapp.py\", line 282, in init_extensions\n",
            "    self.shell.extension_manager.load_extension(ext)\n",
            "  File \"/opt/conda/lib/python3.10/site-packages/IPython/core/extensions.py\", line 62, in load_extension\n",
            "    return self._load_extension(module_str)\n",
            "  File \"/opt/conda/lib/python3.10/site-packages/IPython/core/extensions.py\", line 77, in _load_extension\n",
            "    mod = import_module(module_str)\n",
            "  File \"/opt/conda/lib/python3.10/importlib/__init__.py\", line 126, in import_module\n",
            "    return _bootstrap._gcd_import(name[level:], package, level)\n",
            "  File \"<frozen importlib._bootstrap>\", line 1050, in _gcd_import\n",
            "  File \"<frozen importlib._bootstrap>\", line 1027, in _find_and_load\n",
            "  File \"<frozen importlib._bootstrap>\", line 1004, in _find_and_load_unlocked\n",
            "ModuleNotFoundError: No module named 'beatrix_jupyterlab'\n"
          ]
        },
        {
          "data": {
            "application/vnd.jupyter.widget-view+json": {
              "model_id": "f0710962877a4b1b9d5672c4fd52cf2b",
              "version_major": 2,
              "version_minor": 0
            },
            "text/plain": [
              "Executing:   0%|          | 0/8 [00:00<?, ?cell/s]"
            ]
          },
          "metadata": {},
          "output_type": "display_data"
        },
        {
          "name": "stderr",
          "output_type": "stream",
          "text": [
            "[IPKernelApp] WARNING | Error in loading extension: beatrix_jupyterlab\n",
            "Check your config files in /home/jupyter/.ipython/profile_default\n",
            "Traceback (most recent call last):\n",
            "  File \"/opt/conda/lib/python3.10/site-packages/IPython/core/shellapp.py\", line 282, in init_extensions\n",
            "    self.shell.extension_manager.load_extension(ext)\n",
            "  File \"/opt/conda/lib/python3.10/site-packages/IPython/core/extensions.py\", line 62, in load_extension\n",
            "    return self._load_extension(module_str)\n",
            "  File \"/opt/conda/lib/python3.10/site-packages/IPython/core/extensions.py\", line 77, in _load_extension\n",
            "    mod = import_module(module_str)\n",
            "  File \"/opt/conda/lib/python3.10/importlib/__init__.py\", line 126, in import_module\n",
            "    return _bootstrap._gcd_import(name[level:], package, level)\n",
            "  File \"<frozen importlib._bootstrap>\", line 1050, in _gcd_import\n",
            "  File \"<frozen importlib._bootstrap>\", line 1027, in _find_and_load\n",
            "  File \"<frozen importlib._bootstrap>\", line 1004, in _find_and_load_unlocked\n",
            "ModuleNotFoundError: No module named 'beatrix_jupyterlab'\n"
          ]
        },
        {
          "data": {
            "application/vnd.jupyter.widget-view+json": {
              "model_id": "83166aa806e943a38c09593f2847dec8",
              "version_major": 2,
              "version_minor": 0
            },
            "text/plain": [
              "Executing:   0%|          | 0/6 [00:00<?, ?cell/s]"
            ]
          },
          "metadata": {},
          "output_type": "display_data"
        },
        {
          "name": "stderr",
          "output_type": "stream",
          "text": [
            "[IPKernelApp] WARNING | Error in loading extension: beatrix_jupyterlab\n",
            "Check your config files in /home/jupyter/.ipython/profile_default\n",
            "Traceback (most recent call last):\n",
            "  File \"/opt/conda/lib/python3.10/site-packages/IPython/core/shellapp.py\", line 282, in init_extensions\n",
            "    self.shell.extension_manager.load_extension(ext)\n",
            "  File \"/opt/conda/lib/python3.10/site-packages/IPython/core/extensions.py\", line 62, in load_extension\n",
            "    return self._load_extension(module_str)\n",
            "  File \"/opt/conda/lib/python3.10/site-packages/IPython/core/extensions.py\", line 77, in _load_extension\n",
            "    mod = import_module(module_str)\n",
            "  File \"/opt/conda/lib/python3.10/importlib/__init__.py\", line 126, in import_module\n",
            "    return _bootstrap._gcd_import(name[level:], package, level)\n",
            "  File \"<frozen importlib._bootstrap>\", line 1050, in _gcd_import\n",
            "  File \"<frozen importlib._bootstrap>\", line 1027, in _find_and_load\n",
            "  File \"<frozen importlib._bootstrap>\", line 1004, in _find_and_load_unlocked\n",
            "ModuleNotFoundError: No module named 'beatrix_jupyterlab'\n"
          ]
        },
        {
          "data": {
            "application/vnd.jupyter.widget-view+json": {
              "model_id": "5d9a5334933e4b2aa0c9f92e914e3b73",
              "version_major": 2,
              "version_minor": 0
            },
            "text/plain": [
              "Executing:   0%|          | 0/11 [00:00<?, ?cell/s]"
            ]
          },
          "metadata": {},
          "output_type": "display_data"
        },
        {
          "name": "stderr",
          "output_type": "stream",
          "text": [
            "[IPKernelApp] WARNING | Error in loading extension: beatrix_jupyterlab\n",
            "Check your config files in /home/jupyter/.ipython/profile_default\n",
            "Traceback (most recent call last):\n",
            "  File \"/opt/conda/lib/python3.10/site-packages/IPython/core/shellapp.py\", line 282, in init_extensions\n",
            "    self.shell.extension_manager.load_extension(ext)\n",
            "  File \"/opt/conda/lib/python3.10/site-packages/IPython/core/extensions.py\", line 62, in load_extension\n",
            "    return self._load_extension(module_str)\n",
            "  File \"/opt/conda/lib/python3.10/site-packages/IPython/core/extensions.py\", line 77, in _load_extension\n",
            "    mod = import_module(module_str)\n",
            "  File \"/opt/conda/lib/python3.10/importlib/__init__.py\", line 126, in import_module\n",
            "    return _bootstrap._gcd_import(name[level:], package, level)\n",
            "  File \"<frozen importlib._bootstrap>\", line 1050, in _gcd_import\n",
            "  File \"<frozen importlib._bootstrap>\", line 1027, in _find_and_load\n",
            "  File \"<frozen importlib._bootstrap>\", line 1004, in _find_and_load_unlocked\n",
            "ModuleNotFoundError: No module named 'beatrix_jupyterlab'\n"
          ]
        },
        {
          "data": {
            "application/vnd.jupyter.widget-view+json": {
              "model_id": "5349f60e6de443a4a594407c9da294c8",
              "version_major": 2,
              "version_minor": 0
            },
            "text/plain": [
              "Executing:   0%|          | 0/14 [00:00<?, ?cell/s]"
            ]
          },
          "metadata": {},
          "output_type": "display_data"
        },
        {
          "name": "stderr",
          "output_type": "stream",
          "text": [
            "[IPKernelApp] WARNING | Error in loading extension: beatrix_jupyterlab\n",
            "Check your config files in /home/jupyter/.ipython/profile_default\n",
            "Traceback (most recent call last):\n",
            "  File \"/opt/conda/lib/python3.10/site-packages/IPython/core/shellapp.py\", line 282, in init_extensions\n",
            "    self.shell.extension_manager.load_extension(ext)\n",
            "  File \"/opt/conda/lib/python3.10/site-packages/IPython/core/extensions.py\", line 62, in load_extension\n",
            "    return self._load_extension(module_str)\n",
            "  File \"/opt/conda/lib/python3.10/site-packages/IPython/core/extensions.py\", line 77, in _load_extension\n",
            "    mod = import_module(module_str)\n",
            "  File \"/opt/conda/lib/python3.10/importlib/__init__.py\", line 126, in import_module\n",
            "    return _bootstrap._gcd_import(name[level:], package, level)\n",
            "  File \"<frozen importlib._bootstrap>\", line 1050, in _gcd_import\n",
            "  File \"<frozen importlib._bootstrap>\", line 1027, in _find_and_load\n",
            "  File \"<frozen importlib._bootstrap>\", line 1004, in _find_and_load_unlocked\n",
            "ModuleNotFoundError: No module named 'beatrix_jupyterlab'\n"
          ]
        },
        {
          "data": {
            "application/vnd.jupyter.widget-view+json": {
              "model_id": "4c2f4737d20c4902905938d4cf56baf2",
              "version_major": 2,
              "version_minor": 0
            },
            "text/plain": [
              "Executing:   0%|          | 0/21 [00:00<?, ?cell/s]"
            ]
          },
          "metadata": {},
          "output_type": "display_data"
        },
        {
          "name": "stderr",
          "output_type": "stream",
          "text": [
            "[IPKernelApp] WARNING | Error in loading extension: beatrix_jupyterlab\n",
            "Check your config files in /home/jupyter/.ipython/profile_default\n",
            "Traceback (most recent call last):\n",
            "  File \"/opt/conda/lib/python3.10/site-packages/IPython/core/shellapp.py\", line 282, in init_extensions\n",
            "    self.shell.extension_manager.load_extension(ext)\n",
            "  File \"/opt/conda/lib/python3.10/site-packages/IPython/core/extensions.py\", line 62, in load_extension\n",
            "    return self._load_extension(module_str)\n",
            "  File \"/opt/conda/lib/python3.10/site-packages/IPython/core/extensions.py\", line 77, in _load_extension\n",
            "    mod = import_module(module_str)\n",
            "  File \"/opt/conda/lib/python3.10/importlib/__init__.py\", line 126, in import_module\n",
            "    return _bootstrap._gcd_import(name[level:], package, level)\n",
            "  File \"<frozen importlib._bootstrap>\", line 1050, in _gcd_import\n",
            "  File \"<frozen importlib._bootstrap>\", line 1027, in _find_and_load\n",
            "  File \"<frozen importlib._bootstrap>\", line 1004, in _find_and_load_unlocked\n",
            "ModuleNotFoundError: No module named 'beatrix_jupyterlab'\n"
          ]
        },
        {
          "data": {
            "application/vnd.jupyter.widget-view+json": {
              "model_id": "65183d462a1d4a51a0de97606e41b8a4",
              "version_major": 2,
              "version_minor": 0
            },
            "text/plain": [
              "Executing:   0%|          | 0/8 [00:00<?, ?cell/s]"
            ]
          },
          "metadata": {},
          "output_type": "display_data"
        },
        {
          "name": "stderr",
          "output_type": "stream",
          "text": [
            "[IPKernelApp] WARNING | Error in loading extension: beatrix_jupyterlab\n",
            "Check your config files in /home/jupyter/.ipython/profile_default\n",
            "Traceback (most recent call last):\n",
            "  File \"/opt/conda/lib/python3.10/site-packages/IPython/core/shellapp.py\", line 282, in init_extensions\n",
            "    self.shell.extension_manager.load_extension(ext)\n",
            "  File \"/opt/conda/lib/python3.10/site-packages/IPython/core/extensions.py\", line 62, in load_extension\n",
            "    return self._load_extension(module_str)\n",
            "  File \"/opt/conda/lib/python3.10/site-packages/IPython/core/extensions.py\", line 77, in _load_extension\n",
            "    mod = import_module(module_str)\n",
            "  File \"/opt/conda/lib/python3.10/importlib/__init__.py\", line 126, in import_module\n",
            "    return _bootstrap._gcd_import(name[level:], package, level)\n",
            "  File \"<frozen importlib._bootstrap>\", line 1050, in _gcd_import\n",
            "  File \"<frozen importlib._bootstrap>\", line 1027, in _find_and_load\n",
            "  File \"<frozen importlib._bootstrap>\", line 1004, in _find_and_load_unlocked\n",
            "ModuleNotFoundError: No module named 'beatrix_jupyterlab'\n"
          ]
        },
        {
          "data": {
            "application/vnd.jupyter.widget-view+json": {
              "model_id": "3319f16569e247e58f5bf2eb7bc70415",
              "version_major": 2,
              "version_minor": 0
            },
            "text/plain": [
              "Executing:   0%|          | 0/14 [00:00<?, ?cell/s]"
            ]
          },
          "metadata": {},
          "output_type": "display_data"
        },
        {
          "name": "stderr",
          "output_type": "stream",
          "text": [
            "[IPKernelApp] WARNING | Error in loading extension: beatrix_jupyterlab\n",
            "Check your config files in /home/jupyter/.ipython/profile_default\n",
            "Traceback (most recent call last):\n",
            "  File \"/opt/conda/lib/python3.10/site-packages/IPython/core/shellapp.py\", line 282, in init_extensions\n",
            "    self.shell.extension_manager.load_extension(ext)\n",
            "  File \"/opt/conda/lib/python3.10/site-packages/IPython/core/extensions.py\", line 62, in load_extension\n",
            "    return self._load_extension(module_str)\n",
            "  File \"/opt/conda/lib/python3.10/site-packages/IPython/core/extensions.py\", line 77, in _load_extension\n",
            "    mod = import_module(module_str)\n",
            "  File \"/opt/conda/lib/python3.10/importlib/__init__.py\", line 126, in import_module\n",
            "    return _bootstrap._gcd_import(name[level:], package, level)\n",
            "  File \"<frozen importlib._bootstrap>\", line 1050, in _gcd_import\n",
            "  File \"<frozen importlib._bootstrap>\", line 1027, in _find_and_load\n",
            "  File \"<frozen importlib._bootstrap>\", line 1004, in _find_and_load_unlocked\n",
            "ModuleNotFoundError: No module named 'beatrix_jupyterlab'\n"
          ]
        },
        {
          "name": "stdout",
          "output_type": "stream",
          "text": [
            "Notebook execution process completed.\n"
          ]
        }
      ],
      "source": []
    },
    {
      "cell_type": "code",
      "execution_count": null,
      "id": "56ff96bc-d0aa-4c7f-8f00-aa342ecb4309",
      "metadata": {
        "id": "56ff96bc-d0aa-4c7f-8f00-aa342ecb4309"
      },
      "outputs": [],
      "source": [
        "# import nbformat\n",
        "# from nbconvert.preprocessors import ExecutePreprocessor\n",
        "# from google.cloud import storage\n",
        "# import os\n",
        "# import tempfile\n",
        "\n",
        "# # Initialize GCS client\n",
        "# client = storage.Client()\n",
        "\n",
        "# # Configuration\n",
        "# BUCKET_NAME = 'sovai-mockingbird'  # Replace with your GCS bucket name\n",
        "# NOTEBOOKS_FOLDER = 'monthly/'  # Folder in the bucket where notebooks are stored\n",
        "# NOTEBOOKS_FOLDER = 'weekly/'  # Folder in the bucket where notebooks are stored\n",
        "\n",
        "# LOCAL_TEMP_DIR = tempfile.gettempdir()\n",
        "\n",
        "\n",
        "# def download_notebook(bucket_name, source_blob_name, destination_file_name):\n",
        "#     \"\"\"Downloads a notebook from GCS to a local temporary directory.\"\"\"\n",
        "#     bucket = client.bucket(bucket_name)\n",
        "#     blob = bucket.blob(source_blob_name)\n",
        "#     blob.download_to_filename(destination_file_name)\n",
        "#     print(f\"Downloaded {source_blob_name} to {destination_file_name}\")\n",
        "\n",
        "# def run_notebook(notebook_path):\n",
        "#     \"\"\"Executes a notebook and saves the output.\"\"\"\n",
        "#     with open(notebook_path, \"r\", encoding=\"utf-8\") as f:\n",
        "#         notebook = nbformat.read(f, as_version=4)\n",
        "\n",
        "#     ep = ExecutePreprocessor(timeout=600, kernel_name=\"python3\")\n",
        "\n",
        "#     try:\n",
        "#         ep.preprocess(notebook, {\"metadata\": {\"path\": os.path.dirname(notebook_path)}})\n",
        "#         output_path = notebook_path.replace('.ipynb', '_executed.ipynb')\n",
        "#         with open(output_path, \"w\", encoding=\"utf-8\") as f:\n",
        "#             nbformat.write(notebook, f)\n",
        "#         print(f\"Successfully ran and saved: {output_path}\")\n",
        "#     except Exception as e:\n",
        "#         print(f\"Error running notebook {notebook_path}: {e}\")\n",
        "\n",
        "# def upload_notebook(bucket_name, source_file_name, destination_blob_name):\n",
        "#     \"\"\"Uploads the executed notebook back to GCS.\"\"\"\n",
        "#     bucket = client.bucket(bucket_name)\n",
        "#     blob = bucket.blob(destination_blob_name)\n",
        "#     blob.upload_from_filename(source_file_name)\n",
        "#     print(f\"Uploaded {source_file_name} to {destination_blob_name}\")\n",
        "\n",
        "# # Run each notebook in sequence\n",
        "# for notebook in notebooks_to_run:\n",
        "#     source_blob = os.path.join(NOTEBOOKS_FOLDER, notebook)\n",
        "#     local_notebook = os.path.join(LOCAL_TEMP_DIR, notebook)\n",
        "\n",
        "#     # Download the notebook from GCS\n",
        "#     download_notebook(BUCKET_NAME, source_blob, local_notebook)\n",
        "\n",
        "#     # Execute the notebook\n",
        "#     run_notebook(local_notebook)\n",
        "\n",
        "#     # Upload the executed notebook back to GCS (optional)\n",
        "#     executed_notebook = local_notebook.replace('.ipynb', '_executed.ipynb')\n",
        "#     destination_blob = os.path.join(NOTEBOOKS_FOLDER, executed_notebook.split('/')[-1])\n",
        "#     upload_notebook(BUCKET_NAME, executed_notebook, destination_blob)\n",
        "\n",
        "#     # Clean up local files\n",
        "#     os.remove(local_notebook)\n",
        "#     os.remove(executed_notebook)\n"
      ]
    }
  ],
  "metadata": {
    "environment": {
      "kernel": "conda-base-py",
      "name": "workbench-notebooks.m122",
      "type": "gcloud",
      "uri": "us-docker.pkg.dev/deeplearning-platform-release/gcr.io/workbench-notebooks:m122"
    },
    "kernelspec": {
      "display_name": "Python 3 (ipykernel) (Local)",
      "language": "python",
      "name": "conda-base-py"
    },
    "language_info": {
      "codemirror_mode": {
        "name": "ipython",
        "version": 3
      },
      "file_extension": ".py",
      "mimetype": "text/x-python",
      "name": "python",
      "nbconvert_exporter": "python",
      "pygments_lexer": "ipython3",
      "version": "3.10.14"
    },
    "colab": {
      "provenance": []
    }
  },
  "nbformat": 4,
  "nbformat_minor": 5
}